{
 "cells": [
  {
   "cell_type": "code",
   "execution_count": 1,
   "id": "12cb5633",
   "metadata": {},
   "outputs": [],
   "source": [
    "import pyro\n",
    "import torch\n",
    "import matplotlib.pyplot as plt"
   ]
  },
  {
   "cell_type": "code",
   "execution_count": 2,
   "id": "66d03896",
   "metadata": {},
   "outputs": [],
   "source": [
    "dist = pyro.distributions"
   ]
  },
  {
   "cell_type": "code",
   "execution_count": 3,
   "id": "0ebff62b",
   "metadata": {},
   "outputs": [],
   "source": [
    "torch.manual_seed(10)\n",
    "W_gt = torch.rand(2, 2)\n",
    "Z_gt = torch.randn(200, 2)\n",
    "\n",
    "X = Z_gt@W_gt"
   ]
  },
  {
   "cell_type": "code",
   "execution_count": 4,
   "id": "df04d4a7",
   "metadata": {},
   "outputs": [
    {
     "data": {
      "image/png": "[encoded data removed]",
      "text/plain": [
       "<Figure size 432x288 with 1 Axes>"
      ]
     },
     "metadata": {
      "needs_background": "light"
     },
     "output_type": "display_data"
    }
   ],
   "source": [
    "plt.scatter(X[:, 0], X[:, 1])\n",
    "plt.axis('equal');"
   ]
  },
  {
   "cell_type": "code",
   "execution_count": 5,
   "id": "893e6cea",
   "metadata": {},
   "outputs": [
    {
     "data": {
      "image/svg+xml": [
       "<?xml version=\"1.0\" encoding=\"UTF-8\" standalone=\"no\"?>\n",
       "<!DOCTYPE svg PUBLIC \"-//W3C//DTD SVG 1.1//EN\"\n",
       " \"http://www.w3.org/Graphics/SVG/1.1/DTD/svg11.dtd\">\n",
       "<!-- Generated by graphviz version 2.50.0 (0)\n",
       " -->\n",
       "<!-- Pages: 1 -->\n",
       "<svg width=\"244pt\" height=\"133pt\"\n",
       " viewBox=\"0.00 0.00 244.00 133.00\" xmlns=\"http://www.w3.org/2000/svg\" xmlns:xlink=\"http://www.w3.org/1999/xlink\">\n",
       "<g id=\"graph0\" class=\"graph\" transform=\"scale(1 1) rotate(0) translate(4 129)\">\n",
       "<polygon fill=\"white\" stroke=\"transparent\" points=\"-4,4 -4,-129 240,-129 240,4 -4,4\"/>\n",
       "<!-- W -->\n",
       "<g id=\"node1\" class=\"node\">\n",
       "<title>W</title>\n",
       "<ellipse fill=\"white\" stroke=\"black\" cx=\"27\" cy=\"-98.5\" rx=\"27\" ry=\"18\"/>\n",
       "<text text-anchor=\"middle\" x=\"27\" y=\"-94.8\" font-family=\"Times,serif\" font-size=\"14.00\">W</text>\n",
       "</g>\n",
       "<!-- obs -->\n",
       "<g id=\"node3\" class=\"node\">\n",
       "<title>obs</title>\n",
       "<ellipse fill=\"grey\" stroke=\"black\" cx=\"63\" cy=\"-18\" rx=\"27\" ry=\"18\"/>\n",
       "<text text-anchor=\"middle\" x=\"63\" y=\"-14.3\" font-family=\"Times,serif\" font-size=\"14.00\">obs</text>\n",
       "</g>\n",
       "<!-- W&#45;&gt;obs -->\n",
       "<g id=\"edge1\" class=\"edge\">\n",
       "<title>W&#45;&gt;obs</title>\n",
       "<path fill=\"none\" stroke=\"black\" d=\"M34.63,-80.85C39.44,-70.37 45.74,-56.64 51.18,-44.77\"/>\n",
       "<polygon fill=\"black\" stroke=\"black\" points=\"54.51,-45.9 55.5,-35.35 48.15,-42.99 54.51,-45.9\"/>\n",
       "</g>\n",
       "<!-- Z -->\n",
       "<g id=\"node2\" class=\"node\">\n",
       "<title>Z</title>\n",
       "<ellipse fill=\"white\" stroke=\"black\" cx=\"99\" cy=\"-98.5\" rx=\"27\" ry=\"18\"/>\n",
       "<text text-anchor=\"middle\" x=\"99\" y=\"-94.8\" font-family=\"Times,serif\" font-size=\"14.00\">Z</text>\n",
       "</g>\n",
       "<!-- Z&#45;&gt;obs -->\n",
       "<g id=\"edge2\" class=\"edge\">\n",
       "<title>Z&#45;&gt;obs</title>\n",
       "<path fill=\"none\" stroke=\"black\" d=\"M91.37,-80.85C86.56,-70.37 80.26,-56.64 74.82,-44.77\"/>\n",
       "<polygon fill=\"black\" stroke=\"black\" points=\"77.85,-42.99 70.5,-35.35 71.49,-45.9 77.85,-42.99\"/>\n",
       "</g>\n",
       "<!-- distribution_description_node -->\n",
       "<g id=\"node4\" class=\"node\">\n",
       "<title>distribution_description_node</title>\n",
       "<text text-anchor=\"start\" x=\"152\" y=\"-109.8\" font-family=\"Times,serif\" font-size=\"14.00\">W ~ Normal</text>\n",
       "<text text-anchor=\"start\" x=\"152\" y=\"-94.8\" font-family=\"Times,serif\" font-size=\"14.00\">Z ~ Normal</text>\n",
       "<text text-anchor=\"start\" x=\"152\" y=\"-79.8\" font-family=\"Times,serif\" font-size=\"14.00\">obs ~ Normal</text>\n",
       "</g>\n",
       "</g>\n",
       "</svg>\n"
      ],
      "text/plain": [
       "<graphviz.graphs.Digraph at 0x147257ee0>"
      ]
     },
     "execution_count": 5,
     "metadata": {},
     "output_type": "execute_result"
    }
   ],
   "source": [
    "pyro.clear_param_store()\n",
    "\n",
    "\n",
    "def ppca_model_without_plate(data, latent_dim):\n",
    "    N, data_dim = data.shape\n",
    "    W = pyro.sample(\n",
    "        \"W\",\n",
    "        dist.Normal(\n",
    "            loc=torch.zeros([data_dim, latent_dim]),\n",
    "            scale=5.0 * torch.ones([data_dim, latent_dim]),\n",
    "        ).to_event(2)\n",
    "    )\n",
    "    Z = pyro.sample(\n",
    "        \"Z\",\n",
    "        dist.Normal(\n",
    "            loc=torch.zeros([latent_dim, N]),\n",
    "            scale=torch.ones([latent_dim, N]),\n",
    "        ).to_event(1),\n",
    "    )\n",
    "\n",
    "    mean = (W @ Z).t()\n",
    "    \n",
    "    ob = pyro.distributions.Normal(mean, 1.0).to_event(2)\n",
    "    return pyro.sample(\"obs\", ob, obs=data)\n",
    "\n",
    "\n",
    "pyro.render_model(\n",
    "    ppca_model_without_plate, model_args=(X, 1), render_distributions=True\n",
    ")"
   ]
  },
  {
   "cell_type": "code",
   "execution_count": 6,
   "id": "9f8ce978",
   "metadata": {},
   "outputs": [
    {
     "name": "stderr",
     "output_type": "stream",
     "text": [
      "/Users/nipun/miniforge3/lib/python3.9/site-packages/pyro/primitives.py:137: RuntimeWarning: trying to observe a value outside of inference at obs\n",
      "  warnings.warn(\n"
     ]
    },
    {
     "data": {
      "text/plain": [
       "torch.Size([200, 2])"
      ]
     },
     "execution_count": 6,
     "metadata": {},
     "output_type": "execute_result"
    }
   ],
   "source": [
    "ppca_model_without_plate(X, 1).shape"
   ]
  },
  {
   "cell_type": "code",
   "execution_count": 8,
   "id": "f5dbe2b3",
   "metadata": {},
   "outputs": [],
   "source": [
    "import pyro.poutine as poutine\n",
    "\n",
    "trace = poutine.trace(ppca_model_without_plate).get_trace(X, 1)\n",
    "trace.compute_log_prob()  # optional, but allows printing of log_prob shapes\n",
    "x = trace.format_shapes()"
   ]
  },
  {
   "cell_type": "code",
   "execution_count": 15,
   "id": "a511bd36",
   "metadata": {},
   "outputs": [
    {
     "name": "stdout",
     "output_type": "stream",
     "text": [
      "╒════════╤═══════╕\n",
      "│ item   │   qty │\n",
      "╞════════╪═══════╡\n",
      "│ spam   │    42 │\n",
      "├────────┼───────┤\n",
      "│ eggs   │   451 │\n",
      "├────────┼───────┤\n",
      "│ bacon  │     0 │\n",
      "╘════════╧═══════╛\n"
     ]
    }
   ],
   "source": [
    "table = [[\"spam\",42],[\"eggs\",451],[\"bacon\",0]]\n",
    "headers = [\"item\", \"qty\"]\n",
    "print(tabulate(table, headers, tablefmt=\"fancy_grid\"))"
   ]
  },
  {
   "cell_type": "code",
   "execution_count": 19,
   "id": "9b5ce8d9",
   "metadata": {},
   "outputs": [
    {
     "data": {
      "text/html": [
       "<table>\n",
       "<thead>\n",
       "<tr><th>item  </th><th style=\"text-align: right;\">  qty</th></tr>\n",
       "</thead>\n",
       "<tbody>\n",
       "<tr><td>spam  </td><td style=\"text-align: right;\">   42</td></tr>\n",
       "<tr><td>eggs  </td><td style=\"text-align: right;\">  451</td></tr>\n",
       "<tr><td>bacon </td><td style=\"text-align: right;\">    0</td></tr>\n",
       "</tbody>\n",
       "</table>"
      ],
      "text/plain": [
       "<IPython.core.display.HTML object>"
      ]
     },
     "execution_count": 19,
     "metadata": {},
     "output_type": "execute_result"
    }
   ],
   "source": [
    "from IPython.display import display, HTML\n",
    "HTML(tabulate(table, headers, tablefmt=\"html\"))"
   ]
  },
  {
   "cell_type": "code",
   "execution_count": 12,
   "id": "b68de57a",
   "metadata": {},
   "outputs": [
    {
     "data": {
      "text/plain": [
       "'-  -  -  -  -  -  -  -  -  -  -  -  -    -    -    -  -  -    -\\nT  r  a  c  e     S  h  a  p  e  s  :\\n   P  a  r  a  m     S  i  t  e  s  :\\nS  a  m  p  l  e     S  i  t  e  s  :\\n                     W     d  i  s  t         |          2    1\\n                        v  a  l  u  e         |          2    1\\n               l  o  g  _  p  r  o  b         |\\n                     Z     d  i  s  t    1    |    2  0  0\\n                        v  a  l  u  e    1    |    2  0  0\\n               l  o  g  _  p  r  o  b    1    |\\n               o  b  s     d  i  s  t         |    2  0  0    2\\n                        v  a  l  u  e         |    2  0  0    2\\n               l  o  g  _  p  r  o  b         |\\n-  -  -  -  -  -  -  -  -  -  -  -  -    -    -    -  -  -    -'"
      ]
     },
     "execution_count": 12,
     "metadata": {},
     "output_type": "execute_result"
    }
   ],
   "source": [
    "from tabulate import tabulate\n"
   ]
  },
  {
   "cell_type": "code",
   "execution_count": 211,
   "id": "c2151425",
   "metadata": {},
   "outputs": [],
   "source": [
    "pyro.clear_param_store()\n",
    "auto_guide = pyro.infer.autoguide.AutoNormal(ppca_model_without_plate)"
   ]
  },
  {
   "cell_type": "code",
   "execution_count": 193,
   "id": "4b583b35",
   "metadata": {},
   "outputs": [
    {
     "name": "stdout",
     "output_type": "stream",
     "text": [
      "       Trace Shapes:            \n",
      "        Param Sites:            \n",
      "   AutoNormal.locs.W 2   1      \n",
      " AutoNormal.scales.W 2   1      \n",
      "   AutoNormal.locs.Z 1 200      \n",
      " AutoNormal.scales.Z 1 200      \n",
      "       Sample Sites:            \n",
      "W_unconstrained dist     |   2 1\n",
      "               value     |   2 1\n",
      "            log_prob     |      \n",
      "              W dist     |   2 1\n",
      "               value     |   2 1\n",
      "            log_prob     |      \n",
      "Z_unconstrained dist 1   | 200  \n",
      "               value 1   | 200  \n",
      "            log_prob 1   |      \n",
      "              Z dist 1   | 200  \n",
      "               value 1   | 200  \n",
      "            log_prob 1   |      \n"
     ]
    }
   ],
   "source": [
    "trace = poutine.trace(auto_guide).get_trace(X, 1)\n",
    "trace.compute_log_prob()  # optional, but allows printing of log_prob shapes\n",
    "print(trace.format_shapes())"
   ]
  },
  {
   "cell_type": "code",
   "execution_count": 194,
   "id": "269e1e6a",
   "metadata": {},
   "outputs": [
    {
     "data": {
      "image/png": "[encoded data removed]",
      "text/plain": [
       "<Figure size 360x144 with 1 Axes>"
      ]
     },
     "metadata": {
      "needs_background": "light"
     },
     "output_type": "display_data"
    }
   ],
   "source": [
    "import logging\n",
    "adam = pyro.optim.Adam({\"lr\": 0.02})  # Consider decreasing learning rate.\n",
    "elbo = pyro.infer.Trace_ELBO()\n",
    "svi = pyro.infer.SVI(ppca_model_without_plate, auto_guide, adam, elbo)\n",
    "\n",
    "losses = []\n",
    "for step in range(1000):  # Consider running for more steps.\n",
    "    loss = svi.step(X, 1)\n",
    "    losses.append(loss)\n",
    "    if step % 100 == 0:\n",
    "        logging.info(\"Elbo loss: {}\".format(loss))\n",
    "\n",
    "plt.figure(figsize=(5, 2))\n",
    "plt.plot(losses)\n",
    "plt.xlabel(\"SVI step\")\n",
    "plt.ylabel(\"ELBO loss\");"
   ]
  },
  {
   "cell_type": "code",
   "execution_count": 198,
   "id": "b175b25f",
   "metadata": {},
   "outputs": [
    {
     "data": {
      "image/svg+xml": [
       "<?xml version=\"1.0\" encoding=\"UTF-8\" standalone=\"no\"?>\n",
       "<!DOCTYPE svg PUBLIC \"-//W3C//DTD SVG 1.1//EN\"\n",
       " \"http://www.w3.org/Graphics/SVG/1.1/DTD/svg11.dtd\">\n",
       "<!-- Generated by graphviz version 2.50.0 (0)\n",
       " -->\n",
       "<!-- Pages: 1 -->\n",
       "<svg width=\"244pt\" height=\"180pt\"\n",
       " viewBox=\"0.00 0.00 244.00 179.50\" xmlns=\"http://www.w3.org/2000/svg\" xmlns:xlink=\"http://www.w3.org/1999/xlink\">\n",
       "<g id=\"graph0\" class=\"graph\" transform=\"scale(1 1) rotate(0) translate(4 175.5)\">\n",
       "<polygon fill=\"white\" stroke=\"transparent\" points=\"-4,4 -4,-175.5 240,-175.5 240,4 -4,4\"/>\n",
       "<g id=\"clust1\" class=\"cluster\">\n",
       "<title>cluster_data</title>\n",
       "<polygon fill=\"none\" stroke=\"black\" points=\"64,-8 64,-163.5 134,-163.5 134,-8 64,-8\"/>\n",
       "<text text-anchor=\"middle\" x=\"114.5\" y=\"-15.8\" font-family=\"Times,serif\" font-size=\"14.00\">data</text>\n",
       "</g>\n",
       "<!-- W -->\n",
       "<g id=\"node1\" class=\"node\">\n",
       "<title>W</title>\n",
       "<ellipse fill=\"white\" stroke=\"black\" cx=\"27\" cy=\"-137.5\" rx=\"27\" ry=\"18\"/>\n",
       "<text text-anchor=\"middle\" x=\"27\" y=\"-133.8\" font-family=\"Times,serif\" font-size=\"14.00\">W</text>\n",
       "</g>\n",
       "<!-- obs -->\n",
       "<g id=\"node3\" class=\"node\">\n",
       "<title>obs</title>\n",
       "<ellipse fill=\"grey\" stroke=\"black\" cx=\"99\" cy=\"-57\" rx=\"27\" ry=\"18\"/>\n",
       "<text text-anchor=\"middle\" x=\"99\" y=\"-53.3\" font-family=\"Times,serif\" font-size=\"14.00\">obs</text>\n",
       "</g>\n",
       "<!-- W&#45;&gt;obs -->\n",
       "<g id=\"edge2\" class=\"edge\">\n",
       "<title>W&#45;&gt;obs</title>\n",
       "<path fill=\"none\" stroke=\"black\" d=\"M40.54,-121.73C51.3,-110 66.52,-93.41 78.73,-80.1\"/>\n",
       "<polygon fill=\"black\" stroke=\"black\" points=\"81.34,-82.43 85.52,-72.7 76.18,-77.7 81.34,-82.43\"/>\n",
       "</g>\n",
       "<!-- z -->\n",
       "<g id=\"node2\" class=\"node\">\n",
       "<title>z</title>\n",
       "<ellipse fill=\"white\" stroke=\"black\" cx=\"99\" cy=\"-137.5\" rx=\"27\" ry=\"18\"/>\n",
       "<text text-anchor=\"middle\" x=\"99\" y=\"-133.8\" font-family=\"Times,serif\" font-size=\"14.00\">z</text>\n",
       "</g>\n",
       "<!-- z&#45;&gt;obs -->\n",
       "<g id=\"edge1\" class=\"edge\">\n",
       "<title>z&#45;&gt;obs</title>\n",
       "<path fill=\"none\" stroke=\"black\" d=\"M99,-119.47C99,-109.49 99,-96.65 99,-85.3\"/>\n",
       "<polygon fill=\"black\" stroke=\"black\" points=\"102.5,-85 99,-75 95.5,-85 102.5,-85\"/>\n",
       "</g>\n",
       "<!-- distribution_description_node -->\n",
       "<g id=\"node4\" class=\"node\">\n",
       "<title>distribution_description_node</title>\n",
       "<text text-anchor=\"start\" x=\"152\" y=\"-148.8\" font-family=\"Times,serif\" font-size=\"14.00\">W ~ Normal</text>\n",
       "<text text-anchor=\"start\" x=\"152\" y=\"-133.8\" font-family=\"Times,serif\" font-size=\"14.00\">z ~ Normal</text>\n",
       "<text text-anchor=\"start\" x=\"152\" y=\"-118.8\" font-family=\"Times,serif\" font-size=\"14.00\">obs ~ Normal</text>\n",
       "</g>\n",
       "</g>\n",
       "</svg>\n"
      ],
      "text/plain": [
       "<graphviz.graphs.Digraph at 0x148fd17c0>"
      ]
     },
     "execution_count": 198,
     "metadata": {},
     "output_type": "execute_result"
    }
   ],
   "source": [
    "pyro.clear_param_store()\n",
    "\n",
    "\n",
    "def ppca_model(data, latent_dim):\n",
    "    N, data_dim = data.shape\n",
    "    W = pyro.sample(\n",
    "        \"W\",\n",
    "        dist.Normal(\n",
    "            loc=torch.zeros([data_dim, latent_dim]),\n",
    "            scale=5.0 * torch.ones([data_dim, latent_dim]),\n",
    "        ).to_event(2),\n",
    "    )\n",
    "   \n",
    "    with pyro.plate(\"data\", len(data)):\n",
    "        z_n = pyro.sample(\"z\", dist.Normal(loc=torch.zeros([1, latent_dim]), scale=torch.ones([1, latent_dim])))\n",
    "\n",
    "        mean = (W@z_n).t()\n",
    "        y = dist.Normal(mean, 1.).sample()\n",
    "        d = dist.Normal(mean, 1.)\n",
    "        e = d.to_event(1)\n",
    "        pyro.sample(\"obs\", e, obs=data)\n",
    "\n",
    "\n",
    "\n",
    "\n",
    "pyro.render_model(\n",
    "    ppca_model, model_args=(X, 1), render_distributions=True\n",
    ")"
   ]
  },
  {
   "cell_type": "code",
   "execution_count": 199,
   "id": "7fa36d79",
   "metadata": {},
   "outputs": [],
   "source": [
    "auto_guide2 = pyro.infer.autoguide.AutoNormal(ppca_model)"
   ]
  },
  {
   "cell_type": "code",
   "execution_count": 200,
   "id": "da9a408d",
   "metadata": {},
   "outputs": [
    {
     "data": {
      "image/png": "[encoded data removed]",
      "text/plain": [
       "<Figure size 360x144 with 1 Axes>"
      ]
     },
     "metadata": {
      "needs_background": "light"
     },
     "output_type": "display_data"
    }
   ],
   "source": [
    "pyro.clear_param_store()\n",
    "adam = pyro.optim.Adam({\"lr\": 0.02})  # Consider decreasing learning rate.\n",
    "elbo = pyro.infer.Trace_ELBO()\n",
    "svi = pyro.infer.SVI(ppca_model, auto_guide2, adam, elbo)\n",
    "\n",
    "losses = []\n",
    "for step in range(1000):  # Consider running for more steps.\n",
    "    loss = svi.step(X, 1)\n",
    "    losses.append(loss)\n",
    "    if step % 100 == 0:\n",
    "        logging.info(\"Elbo loss: {}\".format(loss))\n",
    "\n",
    "plt.figure(figsize=(5, 2))\n",
    "plt.plot(losses)\n",
    "plt.xlabel(\"SVI step\")\n",
    "plt.ylabel(\"ELBO loss\");"
   ]
  }
 ],
 "metadata": {
  "kernelspec": {
   "display_name": "Python 3 (ipykernel)",
   "language": "python",
   "name": "python3"
  },
  "language_info": {
   "codemirror_mode": {
    "name": "ipython",
    "version": 3
   },
   "file_extension": ".py",
   "mimetype": "text/x-python",
   "name": "python",
   "nbconvert_exporter": "python",
   "pygments_lexer": "ipython3",
   "version": "3.9.7"
  }
 },
 "nbformat": 4,
 "nbformat_minor": 5
}
