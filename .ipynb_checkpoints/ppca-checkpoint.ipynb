{
 "cells": [
  {
   "cell_type": "markdown",
   "id": "c3bfee40",
   "metadata": {},
   "source": [
    "### Probabilistic PCA: Try till you succeed!"
   ]
  },
  {
   "cell_type": "markdown",
   "id": "d7e80da0",
   "metadata": {},
   "source": [
    "In this notebook, we will be coding coding Probabilistic PCA. We will work through a model, fail many times, debug our way out and refine our understanding of Pyro.\n",
    "\n",
    "\n",
    "We borrow heavily from the [Prob. PCA tutorial in TFP](https://www.tensorflow.org/probability/examples/Probabilistic_PCA).\n",
    "\n",
    "\n",
    "We first discuss the generative process.\n",
    "\n",
    "Data set $\\mathbf{X}=\\left\\{\\mathbf{x}_{n}\\right\\}$ of $N$ data points, where each data point is $D$-dimensional,\n",
    "$\\mathbf{x}_{n} \\in \\mathbb{R}^{D}$\n",
    "\n",
    "Aim: Represent $\\mathbf{x}_{n}$ under a latent variable $\\mathbf{z}_{n} \\in \\mathbb{R}^{K}$ with lower dimension,\n",
    "$K<D$. \n",
    "\n",
    "Principal axes $\\mathbf{W}$ relates the latent variables to the data.\n",
    "\n",
    "Specifically, we assume that each latent variable is normally distributed,\n",
    "$$\n",
    "\\mathbf{z}_{n} \\sim N(\\mathbf{0}, \\mathbf{I})\n",
    "$$\n",
    "The corresponding data point is generated via a projection,\n",
    "$$\n",
    "\\mathbf{x}_{n} \\mid \\mathbf{z}_{n} \\sim N\\left(\\mathbf{W} \\mathbf{z}_{n}, \\sigma^{2} \\mathbf{I}\\right)\n",
    "$$\n",
    "where the matrix $\\mathbf{W} \\in \\mathbb{R}^{D \\times K}$ are known as the principal axes. In probabilistic $\\mathrm{PCA}$, we are typically interested in estimating the principal axes $\\mathbf{W}$ and the noise term $\\sigma^{2}$.\n"
   ]
  },
  {
   "cell_type": "code",
   "execution_count": 1,
   "id": "12cb5633",
   "metadata": {},
   "outputs": [],
   "source": [
    "import pyro\n",
    "import torch\n",
    "import matplotlib.pyplot as plt"
   ]
  },
  {
   "cell_type": "code",
   "execution_count": 2,
   "id": "66d03896",
   "metadata": {},
   "outputs": [],
   "source": [
    "dist = pyro.distributions"
   ]
  },
  {
   "cell_type": "markdown",
   "id": "24cb5146",
   "metadata": {},
   "source": [
    "### Create dataset using the generative process"
   ]
  },
  {
   "cell_type": "code",
   "execution_count": 3,
   "id": "455f50eb",
   "metadata": {},
   "outputs": [
    {
     "data": {
      "text/plain": [
       "Text(0.5, 0, '$z_n$')"
      ]
     },
     "execution_count": 3,
     "metadata": {},
     "output_type": "execute_result"
    },
    {
     "data": {
      "image/png": "[encoded data removed]",
      "text/plain": [
       "<Figure size 432x288 with 1 Axes>"
      ]
     },
     "metadata": {
      "needs_background": "light"
     },
     "output_type": "display_data"
    }
   ],
   "source": [
    "# First generate Z\n",
    "z = dist.Normal(loc = 0., scale = 1).sample([200, 1])\n",
    "plt.scatter( z.numpy(), torch.zeros(200), marker='|')\n",
    "plt.xlabel(r\"$z_n$\")"
   ]
  },
  {
   "cell_type": "code",
   "execution_count": 4,
   "id": "d5b35bbc",
   "metadata": {},
   "outputs": [],
   "source": [
    "# Our principal axis\n",
    "W = torch.tensor([[1., 2.]])"
   ]
  },
  {
   "cell_type": "code",
   "execution_count": 6,
   "id": "7cb183cc",
   "metadata": {},
   "outputs": [
    {
     "data": {
      "text/plain": [
       "(torch.Size([200, 1]), torch.Size([1, 2]))"
      ]
     },
     "execution_count": 6,
     "metadata": {},
     "output_type": "execute_result"
    }
   ],
   "source": [
    "z.shape, W.shape"
   ]
  },
  {
   "cell_type": "code",
   "execution_count": 7,
   "id": "2ee3be12",
   "metadata": {},
   "outputs": [
    {
     "data": {
      "text/plain": [
       "<matplotlib.collections.PathCollection at 0x13fe16730>"
      ]
     },
     "execution_count": 7,
     "metadata": {},
     "output_type": "execute_result"
    },
    {
     "data": {
      "image/png": "[encoded data removed]",
      "text/plain": [
       "<Figure size 432x288 with 1 Axes>"
      ]
     },
     "metadata": {
      "needs_background": "light"
     },
     "output_type": "display_data"
    }
   ],
   "source": [
    "# Noisefree samples\n",
    "zW = z@W\n",
    "plt.scatter(zW[:, 0], zW[:, 1])"
   ]
  },
  {
   "cell_type": "code",
   "execution_count": 8,
   "id": "3e89ea00",
   "metadata": {},
   "outputs": [],
   "source": [
    "# Let us now add some noise.\n",
    "X = zW_noise = zW + torch.randn_like(zW)"
   ]
  },
  {
   "cell_type": "code",
   "execution_count": 142,
   "id": "ec43e655",
   "metadata": {},
   "outputs": [
    {
     "data": {
      "text/plain": [
       "<matplotlib.legend.Legend at 0x149d8df40>"
      ]
     },
     "execution_count": 142,
     "metadata": {},
     "output_type": "execute_result"
    },
    {
     "data": {
      "image/png": "[encoded data removed]",
      "text/plain": [
       "<Figure size 432x288 with 1 Axes>"
      ]
     },
     "metadata": {
      "needs_background": "light"
     },
     "output_type": "display_data"
    }
   ],
   "source": [
    "plt.scatter(X[:, 0], X[:, 1], label='Actual Data')\n",
    "z_lin = torch.linspace(-3., 3., 200).reshape(-1, 1)\n",
    "z_lin_w = z_lin@W\n",
    "plt.plot(z_lin_w[:, 0], z_lin_w[:, 1], label='Principal Axis', color='C1')\n",
    "plt.legend()"
   ]
  },
  {
   "cell_type": "markdown",
   "id": "8d64e61a",
   "metadata": {},
   "source": [
    "### Without plate notation\n",
    "\n",
    "We will mainly try to reconstruct \n",
    "\n",
    "$X \\sim \\mathcal{N}(ZW, 1)$ where\n",
    "\n",
    "$ X \\in R^{N \\times D} $\n",
    "\n",
    "$W \\in R^{d \\times D}$\n",
    "\n",
    "$Z \\in R^{N \\times d}$\n",
    "\n",
    "For our example \n",
    "\n",
    "D = 2\n",
    "d = 1\n",
    "N = 200"
   ]
  },
  {
   "cell_type": "code",
   "execution_count": 10,
   "id": "226d4915",
   "metadata": {},
   "outputs": [
    {
     "data": {
      "image/svg+xml": [
       "<?xml version=\"1.0\" encoding=\"UTF-8\" standalone=\"no\"?>\n",
       "<!DOCTYPE svg PUBLIC \"-//W3C//DTD SVG 1.1//EN\"\n",
       " \"http://www.w3.org/Graphics/SVG/1.1/DTD/svg11.dtd\">\n",
       "<!-- Generated by graphviz version 2.50.0 (0)\n",
       " -->\n",
       "<!-- Pages: 1 -->\n",
       "<svg width=\"244pt\" height=\"133pt\"\n",
       " viewBox=\"0.00 0.00 244.00 133.00\" xmlns=\"http://www.w3.org/2000/svg\" xmlns:xlink=\"http://www.w3.org/1999/xlink\">\n",
       "<g id=\"graph0\" class=\"graph\" transform=\"scale(1 1) rotate(0) translate(4 129)\">\n",
       "<polygon fill=\"white\" stroke=\"transparent\" points=\"-4,4 -4,-129 240,-129 240,4 -4,4\"/>\n",
       "<!-- W -->\n",
       "<g id=\"node1\" class=\"node\">\n",
       "<title>W</title>\n",
       "<ellipse fill=\"white\" stroke=\"black\" cx=\"27\" cy=\"-98.5\" rx=\"27\" ry=\"18\"/>\n",
       "<text text-anchor=\"middle\" x=\"27\" y=\"-94.8\" font-family=\"Times,serif\" font-size=\"14.00\">W</text>\n",
       "</g>\n",
       "<!-- obs -->\n",
       "<g id=\"node3\" class=\"node\">\n",
       "<title>obs</title>\n",
       "<ellipse fill=\"grey\" stroke=\"black\" cx=\"63\" cy=\"-18\" rx=\"27\" ry=\"18\"/>\n",
       "<text text-anchor=\"middle\" x=\"63\" y=\"-14.3\" font-family=\"Times,serif\" font-size=\"14.00\">obs</text>\n",
       "</g>\n",
       "<!-- W&#45;&gt;obs -->\n",
       "<g id=\"edge1\" class=\"edge\">\n",
       "<title>W&#45;&gt;obs</title>\n",
       "<path fill=\"none\" stroke=\"black\" d=\"M34.63,-80.85C39.44,-70.37 45.74,-56.64 51.18,-44.77\"/>\n",
       "<polygon fill=\"black\" stroke=\"black\" points=\"54.51,-45.9 55.5,-35.35 48.15,-42.99 54.51,-45.9\"/>\n",
       "</g>\n",
       "<!-- Z -->\n",
       "<g id=\"node2\" class=\"node\">\n",
       "<title>Z</title>\n",
       "<ellipse fill=\"white\" stroke=\"black\" cx=\"99\" cy=\"-98.5\" rx=\"27\" ry=\"18\"/>\n",
       "<text text-anchor=\"middle\" x=\"99\" y=\"-94.8\" font-family=\"Times,serif\" font-size=\"14.00\">Z</text>\n",
       "</g>\n",
       "<!-- Z&#45;&gt;obs -->\n",
       "<g id=\"edge2\" class=\"edge\">\n",
       "<title>Z&#45;&gt;obs</title>\n",
       "<path fill=\"none\" stroke=\"black\" d=\"M91.37,-80.85C86.56,-70.37 80.26,-56.64 74.82,-44.77\"/>\n",
       "<polygon fill=\"black\" stroke=\"black\" points=\"77.85,-42.99 70.5,-35.35 71.49,-45.9 77.85,-42.99\"/>\n",
       "</g>\n",
       "<!-- distribution_description_node -->\n",
       "<g id=\"node4\" class=\"node\">\n",
       "<title>distribution_description_node</title>\n",
       "<text text-anchor=\"start\" x=\"152\" y=\"-109.8\" font-family=\"Times,serif\" font-size=\"14.00\">W ~ Normal</text>\n",
       "<text text-anchor=\"start\" x=\"152\" y=\"-94.8\" font-family=\"Times,serif\" font-size=\"14.00\">Z ~ Normal</text>\n",
       "<text text-anchor=\"start\" x=\"152\" y=\"-79.8\" font-family=\"Times,serif\" font-size=\"14.00\">obs ~ Normal</text>\n",
       "</g>\n",
       "</g>\n",
       "</svg>\n"
      ],
      "text/plain": [
       "<graphviz.graphs.Digraph at 0x13fed1760>"
      ]
     },
     "execution_count": 10,
     "metadata": {},
     "output_type": "execute_result"
    }
   ],
   "source": [
    "pyro.clear_param_store()\n",
    "\n",
    "\n",
    "def ppca_model_without_plate(data, latent_dim):\n",
    "    N, data_dim = data.shape\n",
    "    W = pyro.sample(\n",
    "        \"W\",\n",
    "        dist.Normal(\n",
    "            loc=torch.zeros([latent_dim, data_dim]),\n",
    "            scale=5.0 * torch.ones([latent_dim, data_dim]),\n",
    "        ),\n",
    "    )\n",
    "    Z = pyro.sample(\n",
    "        \"Z\",\n",
    "        dist.Normal(\n",
    "            loc=torch.zeros([N, latent_dim]),\n",
    "            scale=torch.ones([N, latent_dim]),\n",
    "        ),\n",
    "    )\n",
    "\n",
    "    mean = Z @ W\n",
    "\n",
    "    ob = pyro.distributions.Normal(mean, 1.0)\n",
    "    return pyro.sample(\"obs\", ob, obs=data)\n",
    "\n",
    "\n",
    "pyro.render_model(\n",
    "    ppca_model_without_plate, model_args=(X, 1), render_distributions=True\n",
    ")"
   ]
  },
  {
   "cell_type": "code",
   "execution_count": 26,
   "id": "f696cf9f",
   "metadata": {},
   "outputs": [],
   "source": [
    "import logging\n",
    "\n",
    "\n",
    "def create_guide_optimize_plot(model):\n",
    "    pyro.clear_param_store()\n",
    "    try:\n",
    "\n",
    "        auto_guide = pyro.infer.autoguide.AutoNormal(model)\n",
    "        adam = pyro.optim.Adam({\"lr\": 0.02})\n",
    "        elbo = pyro.infer.Trace_ELBO()\n",
    "        svi = pyro.infer.SVI(model, auto_guide, adam, elbo)\n",
    "\n",
    "        losses = []\n",
    "        for step in range(1000):  # Consider running for more steps.\n",
    "            loss = svi.step(X, 1)\n",
    "            losses.append(loss)\n",
    "            if step % 100 == 0:\n",
    "                logging.info(\"Elbo loss: {}\".format(loss))\n",
    "\n",
    "        plt.figure(figsize=(5, 2))\n",
    "        plt.plot(losses)\n",
    "        plt.xlabel(\"SVI step\")\n",
    "        plt.ylabel(\"ELBO loss\")\n",
    "    except Exception as e:\n",
    "        print(\"*\"*20+\" Error \"+\"*\"*20+\"\\n\")\n",
    "        print(e)\n",
    "        print(\"\\n\"+\"*\"*48)\n",
    "        return auto_guide\n",
    "    return auto_guide"
   ]
  },
  {
   "cell_type": "code",
   "execution_count": 27,
   "id": "adfee797",
   "metadata": {},
   "outputs": [
    {
     "name": "stdout",
     "output_type": "stream",
     "text": [
      "******************** Error ********************\n",
      "\n",
      "at site \"W\", invalid log_prob shape\n",
      "  Expected [], actual [1, 2]\n",
      "  Try one of the following fixes:\n",
      "  - enclose the batched tensor in a with pyro.plate(...): context\n",
      "  - .to_event(...) the distribution being sampled\n",
      "  - .permute() data dimensions\n",
      "\n",
      "************************************************\n"
     ]
    }
   ],
   "source": [
    "ag = create_guide_optimize_plot(ppca_model_without_plate)"
   ]
  },
  {
   "cell_type": "markdown",
   "id": "7651a6cc",
   "metadata": {},
   "source": [
    "#### Examining Error in Model 1\n",
    "\n",
    "Let us examine the shapes first. "
   ]
  },
  {
   "cell_type": "code",
   "execution_count": 28,
   "id": "c2cd0049",
   "metadata": {},
   "outputs": [
    {
     "name": "stdout",
     "output_type": "stream",
     "text": [
      "Trace Shapes:        \n",
      " Param Sites:        \n",
      "Sample Sites:        \n",
      "       W dist   1 2 |\n",
      "        value   1 2 |\n",
      "     log_prob   1 2 |\n",
      "       Z dist 200 1 |\n",
      "        value 200 1 |\n",
      "     log_prob 200 1 |\n",
      "     obs dist 200 2 |\n",
      "        value 200 2 |\n",
      "     log_prob 200 2 |\n"
     ]
    }
   ],
   "source": [
    "import pyro.poutine as poutine\n",
    "\n",
    "trace = poutine.trace(ppca_model_without_plate).get_trace(X, 1)\n",
    "trace.compute_log_prob()\n",
    "print(trace.format_shapes())"
   ]
  },
  {
   "cell_type": "markdown",
   "id": "612f5e8b",
   "metadata": {},
   "source": [
    "Let us first try without the `model()` context and see what the distribution shape means."
   ]
  },
  {
   "cell_type": "code",
   "execution_count": 29,
   "id": "aabbb361",
   "metadata": {},
   "outputs": [
    {
     "data": {
      "text/plain": [
       "(torch.Size([1, 2]), torch.Size([]), torch.Size([1, 2]))"
      ]
     },
     "execution_count": 29,
     "metadata": {},
     "output_type": "execute_result"
    }
   ],
   "source": [
    "latent_dim = 1\n",
    "data_dim = 2\n",
    "\n",
    "dist_W = dist.Normal(\n",
    "    loc=torch.zeros([latent_dim, data_dim]),\n",
    "    scale=5.0 * torch.ones([latent_dim, data_dim]),\n",
    ")\n",
    "\n",
    "dist_W.batch_shape, dist_W.event_shape, dist_W.sample().shape"
   ]
  },
  {
   "cell_type": "markdown",
   "id": "df5c829d",
   "metadata": {},
   "source": [
    "Based on the above sizes, we can think of dist_W as a 1 X 2 table where each entry is an indepedent univariate Gaussian. Let us now try and evaluate the `log_prob` of seeing some samples from our distribution."
   ]
  },
  {
   "cell_type": "code",
   "execution_count": 30,
   "id": "ee4b60c5",
   "metadata": {},
   "outputs": [
    {
     "data": {
      "text/plain": [
       "torch.Size([5, 1, 2])"
      ]
     },
     "execution_count": 30,
     "metadata": {},
     "output_type": "execute_result"
    }
   ],
   "source": [
    "dist_W_logprob = dist_W.log_prob(dist_W.sample([5]))\n",
    "dist_W_logprob.shape"
   ]
  },
  {
   "cell_type": "markdown",
   "id": "a3aaaa28",
   "metadata": {},
   "source": [
    "The above shows our problem! Think of how we may do Bayesian inference. We have a prior over W and we observe some data. We would like the posterior over W given the data. \n",
    "\n",
    "In the above dist_W we have a batch shape of 1,2. When we evaluate the log_prob of 5 samples, we get a (5, 1, 2) shaped array. Rather, we would want a 5-dimensional vector showing the log_prob of each of the sample. \n",
    "\n",
    "To evaluate different Ws, we need the logprob of the different Ws under our prior and likelihood. Thus, we need to convert our dist_W to a distribution where each draw is from a 1X2 dimensional distribution, rather than a draw from 1 X 2 normal distributions. \n",
    "\n",
    "\n",
    "<p style=\"background-color:Tomato;\">Would be useful to get feedback and clarity on this. Still not very clear about the shapes and the logic.\n",
    "</p>"
   ]
  },
  {
   "cell_type": "code",
   "execution_count": 31,
   "id": "c4403ac4",
   "metadata": {},
   "outputs": [
    {
     "data": {
      "text/plain": [
       "(torch.Size([]), torch.Size([1, 2]), torch.Size([5, 1, 2]))"
      ]
     },
     "execution_count": 31,
     "metadata": {},
     "output_type": "execute_result"
    }
   ],
   "source": [
    "dist_W_event = dist_W.to_event()\n",
    "dist_W_event.batch_shape, dist_W_event.event_shape, dist_W_event.sample([5]).shape"
   ]
  },
  {
   "cell_type": "code",
   "execution_count": 33,
   "id": "35655e64",
   "metadata": {},
   "outputs": [
    {
     "data": {
      "text/plain": [
       "torch.Size([5])"
      ]
     },
     "execution_count": 33,
     "metadata": {},
     "output_type": "execute_result"
    }
   ],
   "source": [
    "dist_W_event.log_prob(dist_W_event.sample([5])).shape"
   ]
  },
  {
   "cell_type": "markdown",
   "id": "230df50d",
   "metadata": {},
   "source": [
    "Let us now change the W to to_event and create our second model and check if it works."
   ]
  },
  {
   "cell_type": "code",
   "execution_count": 34,
   "id": "6fb5fe2f",
   "metadata": {},
   "outputs": [
    {
     "data": {
      "image/svg+xml": [
       "<?xml version=\"1.0\" encoding=\"UTF-8\" standalone=\"no\"?>\n",
       "<!DOCTYPE svg PUBLIC \"-//W3C//DTD SVG 1.1//EN\"\n",
       " \"http://www.w3.org/Graphics/SVG/1.1/DTD/svg11.dtd\">\n",
       "<!-- Generated by graphviz version 2.50.0 (0)\n",
       " -->\n",
       "<!-- Pages: 1 -->\n",
       "<svg width=\"244pt\" height=\"133pt\"\n",
       " viewBox=\"0.00 0.00 244.00 133.00\" xmlns=\"http://www.w3.org/2000/svg\" xmlns:xlink=\"http://www.w3.org/1999/xlink\">\n",
       "<g id=\"graph0\" class=\"graph\" transform=\"scale(1 1) rotate(0) translate(4 129)\">\n",
       "<polygon fill=\"white\" stroke=\"transparent\" points=\"-4,4 -4,-129 240,-129 240,4 -4,4\"/>\n",
       "<!-- W -->\n",
       "<g id=\"node1\" class=\"node\">\n",
       "<title>W</title>\n",
       "<ellipse fill=\"white\" stroke=\"black\" cx=\"27\" cy=\"-98.5\" rx=\"27\" ry=\"18\"/>\n",
       "<text text-anchor=\"middle\" x=\"27\" y=\"-94.8\" font-family=\"Times,serif\" font-size=\"14.00\">W</text>\n",
       "</g>\n",
       "<!-- obs -->\n",
       "<g id=\"node3\" class=\"node\">\n",
       "<title>obs</title>\n",
       "<ellipse fill=\"grey\" stroke=\"black\" cx=\"63\" cy=\"-18\" rx=\"27\" ry=\"18\"/>\n",
       "<text text-anchor=\"middle\" x=\"63\" y=\"-14.3\" font-family=\"Times,serif\" font-size=\"14.00\">obs</text>\n",
       "</g>\n",
       "<!-- W&#45;&gt;obs -->\n",
       "<g id=\"edge1\" class=\"edge\">\n",
       "<title>W&#45;&gt;obs</title>\n",
       "<path fill=\"none\" stroke=\"black\" d=\"M34.63,-80.85C39.44,-70.37 45.74,-56.64 51.18,-44.77\"/>\n",
       "<polygon fill=\"black\" stroke=\"black\" points=\"54.51,-45.9 55.5,-35.35 48.15,-42.99 54.51,-45.9\"/>\n",
       "</g>\n",
       "<!-- Z -->\n",
       "<g id=\"node2\" class=\"node\">\n",
       "<title>Z</title>\n",
       "<ellipse fill=\"white\" stroke=\"black\" cx=\"99\" cy=\"-98.5\" rx=\"27\" ry=\"18\"/>\n",
       "<text text-anchor=\"middle\" x=\"99\" y=\"-94.8\" font-family=\"Times,serif\" font-size=\"14.00\">Z</text>\n",
       "</g>\n",
       "<!-- Z&#45;&gt;obs -->\n",
       "<g id=\"edge2\" class=\"edge\">\n",
       "<title>Z&#45;&gt;obs</title>\n",
       "<path fill=\"none\" stroke=\"black\" d=\"M91.37,-80.85C86.56,-70.37 80.26,-56.64 74.82,-44.77\"/>\n",
       "<polygon fill=\"black\" stroke=\"black\" points=\"77.85,-42.99 70.5,-35.35 71.49,-45.9 77.85,-42.99\"/>\n",
       "</g>\n",
       "<!-- distribution_description_node -->\n",
       "<g id=\"node4\" class=\"node\">\n",
       "<title>distribution_description_node</title>\n",
       "<text text-anchor=\"start\" x=\"152\" y=\"-109.8\" font-family=\"Times,serif\" font-size=\"14.00\">W ~ Normal</text>\n",
       "<text text-anchor=\"start\" x=\"152\" y=\"-94.8\" font-family=\"Times,serif\" font-size=\"14.00\">Z ~ Normal</text>\n",
       "<text text-anchor=\"start\" x=\"152\" y=\"-79.8\" font-family=\"Times,serif\" font-size=\"14.00\">obs ~ Normal</text>\n",
       "</g>\n",
       "</g>\n",
       "</svg>\n"
      ],
      "text/plain": [
       "<graphviz.graphs.Digraph at 0x13ff43f10>"
      ]
     },
     "execution_count": 34,
     "metadata": {},
     "output_type": "execute_result"
    }
   ],
   "source": [
    "pyro.clear_param_store()\n",
    "\n",
    "\n",
    "def ppca_model_without_plate_2(data, latent_dim):\n",
    "    N, data_dim = data.shape\n",
    "    W = pyro.sample(\n",
    "        \"W\",\n",
    "        dist.Normal(\n",
    "            loc=torch.zeros([latent_dim, data_dim]),\n",
    "            scale=5.0 * torch.ones([latent_dim, data_dim]),\n",
    "        ).to_event(),\n",
    "    )\n",
    "    Z = pyro.sample(\n",
    "        \"Z\",\n",
    "        dist.Normal(\n",
    "            loc=torch.zeros([N, latent_dim]),\n",
    "            scale=torch.ones([N, latent_dim]),\n",
    "        ),\n",
    "    )\n",
    "\n",
    "    mean = Z @ W\n",
    "\n",
    "    ob = pyro.distributions.Normal(mean, 1.0)\n",
    "    return pyro.sample(\"obs\", ob, obs=data)\n",
    "\n",
    "\n",
    "pyro.render_model(\n",
    "    ppca_model_without_plate_2, model_args=(X, 1), render_distributions=True\n",
    ")"
   ]
  },
  {
   "cell_type": "code",
   "execution_count": 35,
   "id": "5f043e53",
   "metadata": {},
   "outputs": [
    {
     "name": "stdout",
     "output_type": "stream",
     "text": [
      "******************** Error ********************\n",
      "\n",
      "at site \"Z\", invalid log_prob shape\n",
      "  Expected [], actual [200, 1]\n",
      "  Try one of the following fixes:\n",
      "  - enclose the batched tensor in a with pyro.plate(...): context\n",
      "  - .to_event(...) the distribution being sampled\n",
      "  - .permute() data dimensions\n",
      "\n",
      "************************************************\n"
     ]
    }
   ],
   "source": [
    "ag = create_guide_optimize_plot(ppca_model_without_plate_2)"
   ]
  },
  {
   "cell_type": "code",
   "execution_count": 36,
   "id": "308ea595",
   "metadata": {},
   "outputs": [
    {
     "name": "stdout",
     "output_type": "stream",
     "text": [
      "Trace Shapes:            \n",
      " Param Sites:            \n",
      "Sample Sites:            \n",
      "       W dist       | 1 2\n",
      "        value       | 1 2\n",
      "     log_prob       |    \n",
      "       Z dist 200 1 |    \n",
      "        value 200 1 |    \n",
      "     log_prob 200 1 |    \n",
      "     obs dist 200 2 |    \n",
      "        value 200 2 |    \n",
      "     log_prob 200 2 |    \n"
     ]
    }
   ],
   "source": [
    "trace = poutine.trace(ppca_model_without_plate_2).get_trace(X, 1)\n",
    "trace.compute_log_prob()\n",
    "print(trace.format_shapes())"
   ]
  },
  {
   "cell_type": "markdown",
   "id": "cdfbb46b",
   "metadata": {},
   "source": [
    "Let us similarly try and understand the role of Z"
   ]
  },
  {
   "cell_type": "code",
   "execution_count": 37,
   "id": "80ea6e45",
   "metadata": {},
   "outputs": [
    {
     "data": {
      "text/plain": [
       "(torch.Size([200, 1]), torch.Size([]))"
      ]
     },
     "execution_count": 37,
     "metadata": {},
     "output_type": "execute_result"
    }
   ],
   "source": [
    "N = 200\n",
    "latent_dim = 1\n",
    "Z_dist = dist.Normal(\n",
    "            loc=torch.zeros([N, latent_dim]),\n",
    "            scale=torch.ones([N, latent_dim]),\n",
    "        )\n",
    "\n",
    "Z_dist.batch_shape, Z_dist.event_shape"
   ]
  },
  {
   "cell_type": "code",
   "execution_count": 38,
   "id": "003e6427",
   "metadata": {},
   "outputs": [
    {
     "data": {
      "text/plain": [
       "torch.Size([5, 200, 1])"
      ]
     },
     "execution_count": 38,
     "metadata": {},
     "output_type": "execute_result"
    }
   ],
   "source": [
    "Z_dist.log_prob(Z_dist.sample([5])).shape"
   ]
  },
  {
   "cell_type": "code",
   "execution_count": 39,
   "id": "a9915b99",
   "metadata": {},
   "outputs": [
    {
     "data": {
      "text/plain": [
       "torch.Size([5])"
      ]
     },
     "execution_count": 39,
     "metadata": {},
     "output_type": "execute_result"
    }
   ],
   "source": [
    "Z_dist.to_event().log_prob(Z_dist.sample([5])).shape"
   ]
  },
  {
   "cell_type": "markdown",
   "id": "b9cdc3e4",
   "metadata": {},
   "source": [
    "By similar logic as above, we change the model to have Z.to_event()"
   ]
  },
  {
   "cell_type": "code",
   "execution_count": 41,
   "id": "78c4f553",
   "metadata": {},
   "outputs": [
    {
     "data": {
      "image/svg+xml": [
       "<?xml version=\"1.0\" encoding=\"UTF-8\" standalone=\"no\"?>\n",
       "<!DOCTYPE svg PUBLIC \"-//W3C//DTD SVG 1.1//EN\"\n",
       " \"http://www.w3.org/Graphics/SVG/1.1/DTD/svg11.dtd\">\n",
       "<!-- Generated by graphviz version 2.50.0 (0)\n",
       " -->\n",
       "<!-- Pages: 1 -->\n",
       "<svg width=\"244pt\" height=\"133pt\"\n",
       " viewBox=\"0.00 0.00 244.00 133.00\" xmlns=\"http://www.w3.org/2000/svg\" xmlns:xlink=\"http://www.w3.org/1999/xlink\">\n",
       "<g id=\"graph0\" class=\"graph\" transform=\"scale(1 1) rotate(0) translate(4 129)\">\n",
       "<polygon fill=\"white\" stroke=\"transparent\" points=\"-4,4 -4,-129 240,-129 240,4 -4,4\"/>\n",
       "<!-- W -->\n",
       "<g id=\"node1\" class=\"node\">\n",
       "<title>W</title>\n",
       "<ellipse fill=\"white\" stroke=\"black\" cx=\"27\" cy=\"-98.5\" rx=\"27\" ry=\"18\"/>\n",
       "<text text-anchor=\"middle\" x=\"27\" y=\"-94.8\" font-family=\"Times,serif\" font-size=\"14.00\">W</text>\n",
       "</g>\n",
       "<!-- obs -->\n",
       "<g id=\"node3\" class=\"node\">\n",
       "<title>obs</title>\n",
       "<ellipse fill=\"grey\" stroke=\"black\" cx=\"63\" cy=\"-18\" rx=\"27\" ry=\"18\"/>\n",
       "<text text-anchor=\"middle\" x=\"63\" y=\"-14.3\" font-family=\"Times,serif\" font-size=\"14.00\">obs</text>\n",
       "</g>\n",
       "<!-- W&#45;&gt;obs -->\n",
       "<g id=\"edge1\" class=\"edge\">\n",
       "<title>W&#45;&gt;obs</title>\n",
       "<path fill=\"none\" stroke=\"black\" d=\"M34.63,-80.85C39.44,-70.37 45.74,-56.64 51.18,-44.77\"/>\n",
       "<polygon fill=\"black\" stroke=\"black\" points=\"54.51,-45.9 55.5,-35.35 48.15,-42.99 54.51,-45.9\"/>\n",
       "</g>\n",
       "<!-- Z -->\n",
       "<g id=\"node2\" class=\"node\">\n",
       "<title>Z</title>\n",
       "<ellipse fill=\"white\" stroke=\"black\" cx=\"99\" cy=\"-98.5\" rx=\"27\" ry=\"18\"/>\n",
       "<text text-anchor=\"middle\" x=\"99\" y=\"-94.8\" font-family=\"Times,serif\" font-size=\"14.00\">Z</text>\n",
       "</g>\n",
       "<!-- Z&#45;&gt;obs -->\n",
       "<g id=\"edge2\" class=\"edge\">\n",
       "<title>Z&#45;&gt;obs</title>\n",
       "<path fill=\"none\" stroke=\"black\" d=\"M91.37,-80.85C86.56,-70.37 80.26,-56.64 74.82,-44.77\"/>\n",
       "<polygon fill=\"black\" stroke=\"black\" points=\"77.85,-42.99 70.5,-35.35 71.49,-45.9 77.85,-42.99\"/>\n",
       "</g>\n",
       "<!-- distribution_description_node -->\n",
       "<g id=\"node4\" class=\"node\">\n",
       "<title>distribution_description_node</title>\n",
       "<text text-anchor=\"start\" x=\"152\" y=\"-109.8\" font-family=\"Times,serif\" font-size=\"14.00\">W ~ Normal</text>\n",
       "<text text-anchor=\"start\" x=\"152\" y=\"-94.8\" font-family=\"Times,serif\" font-size=\"14.00\">Z ~ Normal</text>\n",
       "<text text-anchor=\"start\" x=\"152\" y=\"-79.8\" font-family=\"Times,serif\" font-size=\"14.00\">obs ~ Normal</text>\n",
       "</g>\n",
       "</g>\n",
       "</svg>\n"
      ],
      "text/plain": [
       "<graphviz.graphs.Digraph at 0x13ff1e640>"
      ]
     },
     "execution_count": 41,
     "metadata": {},
     "output_type": "execute_result"
    }
   ],
   "source": [
    "pyro.clear_param_store()\n",
    "\n",
    "\n",
    "def ppca_model_without_plate_3(data, latent_dim):\n",
    "    N, data_dim = data.shape\n",
    "    W = pyro.sample(\n",
    "        \"W\",\n",
    "        dist.Normal(\n",
    "            loc=torch.zeros([latent_dim, data_dim]),\n",
    "            scale=5.0 * torch.ones([latent_dim, data_dim]),\n",
    "        ).to_event(),\n",
    "    )\n",
    "    Z = pyro.sample(\n",
    "        \"Z\",\n",
    "        dist.Normal(\n",
    "            loc=torch.zeros([N, latent_dim]),\n",
    "            scale=torch.ones([N, latent_dim]),\n",
    "        ).to_event(),\n",
    "    )\n",
    "\n",
    "    mean = Z @ W\n",
    "\n",
    "    ob = pyro.distributions.Normal(mean, 1.0)\n",
    "    return pyro.sample(\"obs\", ob, obs=data)\n",
    "\n",
    "\n",
    "pyro.render_model(\n",
    "    ppca_model_without_plate_3, model_args=(X, 1), render_distributions=True\n",
    ")"
   ]
  },
  {
   "cell_type": "code",
   "execution_count": 42,
   "id": "b901880d",
   "metadata": {},
   "outputs": [
    {
     "name": "stdout",
     "output_type": "stream",
     "text": [
      "******************** Error ********************\n",
      "\n",
      "at site \"obs\", invalid log_prob shape\n",
      "  Expected [], actual [200, 2]\n",
      "  Try one of the following fixes:\n",
      "  - enclose the batched tensor in a with pyro.plate(...): context\n",
      "  - .to_event(...) the distribution being sampled\n",
      "  - .permute() data dimensions\n",
      "\n",
      "************************************************\n"
     ]
    }
   ],
   "source": [
    "ag = create_guide_optimize_plot(ppca_model_without_plate_3)"
   ]
  },
  {
   "cell_type": "markdown",
   "id": "91eda054",
   "metadata": {},
   "source": [
    "Finally, we can create a to_event() on the ob variable as well"
   ]
  },
  {
   "cell_type": "code",
   "execution_count": 43,
   "id": "e158b7d5",
   "metadata": {},
   "outputs": [
    {
     "data": {
      "image/svg+xml": [
       "<?xml version=\"1.0\" encoding=\"UTF-8\" standalone=\"no\"?>\n",
       "<!DOCTYPE svg PUBLIC \"-//W3C//DTD SVG 1.1//EN\"\n",
       " \"http://www.w3.org/Graphics/SVG/1.1/DTD/svg11.dtd\">\n",
       "<!-- Generated by graphviz version 2.50.0 (0)\n",
       " -->\n",
       "<!-- Pages: 1 -->\n",
       "<svg width=\"244pt\" height=\"133pt\"\n",
       " viewBox=\"0.00 0.00 244.00 133.00\" xmlns=\"http://www.w3.org/2000/svg\" xmlns:xlink=\"http://www.w3.org/1999/xlink\">\n",
       "<g id=\"graph0\" class=\"graph\" transform=\"scale(1 1) rotate(0) translate(4 129)\">\n",
       "<polygon fill=\"white\" stroke=\"transparent\" points=\"-4,4 -4,-129 240,-129 240,4 -4,4\"/>\n",
       "<!-- W -->\n",
       "<g id=\"node1\" class=\"node\">\n",
       "<title>W</title>\n",
       "<ellipse fill=\"white\" stroke=\"black\" cx=\"27\" cy=\"-98.5\" rx=\"27\" ry=\"18\"/>\n",
       "<text text-anchor=\"middle\" x=\"27\" y=\"-94.8\" font-family=\"Times,serif\" font-size=\"14.00\">W</text>\n",
       "</g>\n",
       "<!-- obs -->\n",
       "<g id=\"node3\" class=\"node\">\n",
       "<title>obs</title>\n",
       "<ellipse fill=\"grey\" stroke=\"black\" cx=\"63\" cy=\"-18\" rx=\"27\" ry=\"18\"/>\n",
       "<text text-anchor=\"middle\" x=\"63\" y=\"-14.3\" font-family=\"Times,serif\" font-size=\"14.00\">obs</text>\n",
       "</g>\n",
       "<!-- W&#45;&gt;obs -->\n",
       "<g id=\"edge1\" class=\"edge\">\n",
       "<title>W&#45;&gt;obs</title>\n",
       "<path fill=\"none\" stroke=\"black\" d=\"M34.63,-80.85C39.44,-70.37 45.74,-56.64 51.18,-44.77\"/>\n",
       "<polygon fill=\"black\" stroke=\"black\" points=\"54.51,-45.9 55.5,-35.35 48.15,-42.99 54.51,-45.9\"/>\n",
       "</g>\n",
       "<!-- Z -->\n",
       "<g id=\"node2\" class=\"node\">\n",
       "<title>Z</title>\n",
       "<ellipse fill=\"white\" stroke=\"black\" cx=\"99\" cy=\"-98.5\" rx=\"27\" ry=\"18\"/>\n",
       "<text text-anchor=\"middle\" x=\"99\" y=\"-94.8\" font-family=\"Times,serif\" font-size=\"14.00\">Z</text>\n",
       "</g>\n",
       "<!-- Z&#45;&gt;obs -->\n",
       "<g id=\"edge2\" class=\"edge\">\n",
       "<title>Z&#45;&gt;obs</title>\n",
       "<path fill=\"none\" stroke=\"black\" d=\"M91.37,-80.85C86.56,-70.37 80.26,-56.64 74.82,-44.77\"/>\n",
       "<polygon fill=\"black\" stroke=\"black\" points=\"77.85,-42.99 70.5,-35.35 71.49,-45.9 77.85,-42.99\"/>\n",
       "</g>\n",
       "<!-- distribution_description_node -->\n",
       "<g id=\"node4\" class=\"node\">\n",
       "<title>distribution_description_node</title>\n",
       "<text text-anchor=\"start\" x=\"152\" y=\"-109.8\" font-family=\"Times,serif\" font-size=\"14.00\">W ~ Normal</text>\n",
       "<text text-anchor=\"start\" x=\"152\" y=\"-94.8\" font-family=\"Times,serif\" font-size=\"14.00\">Z ~ Normal</text>\n",
       "<text text-anchor=\"start\" x=\"152\" y=\"-79.8\" font-family=\"Times,serif\" font-size=\"14.00\">obs ~ Normal</text>\n",
       "</g>\n",
       "</g>\n",
       "</svg>\n"
      ],
      "text/plain": [
       "<graphviz.graphs.Digraph at 0x13fd63cd0>"
      ]
     },
     "execution_count": 43,
     "metadata": {},
     "output_type": "execute_result"
    }
   ],
   "source": [
    "pyro.clear_param_store()\n",
    "\n",
    "\n",
    "def ppca_model_without_plate_4(data, latent_dim):\n",
    "    N, data_dim = data.shape\n",
    "    W = pyro.sample(\n",
    "        \"W\",\n",
    "        dist.Normal(\n",
    "            loc=torch.zeros([latent_dim, data_dim]),\n",
    "            scale=5.0 * torch.ones([latent_dim, data_dim]),\n",
    "        ).to_event(),\n",
    "    )\n",
    "    Z = pyro.sample(\n",
    "        \"Z\",\n",
    "        dist.Normal(\n",
    "            loc=torch.zeros([N, latent_dim]),\n",
    "            scale=torch.ones([N, latent_dim]),\n",
    "        ).to_event(),\n",
    "    )\n",
    "\n",
    "    mean = Z @ W\n",
    "\n",
    "    ob = pyro.distributions.Normal(mean, 1.0).to_event()\n",
    "    return pyro.sample(\"obs\", ob, obs=data)\n",
    "\n",
    "\n",
    "pyro.render_model(\n",
    "    ppca_model_without_plate_4, model_args=(X, 1), render_distributions=True\n",
    ")"
   ]
  },
  {
   "cell_type": "code",
   "execution_count": 44,
   "id": "b12e2571",
   "metadata": {},
   "outputs": [
    {
     "data": {
      "image/png": "[encoded data removed]",
      "text/plain": [
       "<Figure size 360x144 with 1 Axes>"
      ]
     },
     "metadata": {
      "needs_background": "light"
     },
     "output_type": "display_data"
    }
   ],
   "source": [
    "ag = create_guide_optimize_plot(ppca_model_without_plate_4)"
   ]
  },
  {
   "cell_type": "markdown",
   "id": "debe9d30",
   "metadata": {},
   "source": [
    "Let us now try to create a predictive distribution."
   ]
  },
  {
   "cell_type": "code",
   "execution_count": 45,
   "id": "56206b29",
   "metadata": {},
   "outputs": [],
   "source": [
    "trace = poutine.trace(ag).get_trace(X, 1)"
   ]
  },
  {
   "cell_type": "code",
   "execution_count": 46,
   "id": "e7b429b6",
   "metadata": {},
   "outputs": [],
   "source": [
    "predictive = pyro.infer.Predictive(ppca_model_without_plate_4, guide=ag, num_samples=1)"
   ]
  },
  {
   "cell_type": "code",
   "execution_count": 47,
   "id": "dfc11ca8",
   "metadata": {},
   "outputs": [
    {
     "data": {
      "text/plain": [
       "Predictive(\n",
       "  (guide): AutoNormal(\n",
       "    (locs): PyroModule()\n",
       "    (scales): PyroModule()\n",
       "  )\n",
       ")"
      ]
     },
     "execution_count": 47,
     "metadata": {},
     "output_type": "execute_result"
    }
   ],
   "source": [
    "predictive"
   ]
  },
  {
   "cell_type": "code",
   "execution_count": 48,
   "id": "90fd31ad",
   "metadata": {},
   "outputs": [],
   "source": [
    "samples = predictive(X, 1)"
   ]
  },
  {
   "cell_type": "code",
   "execution_count": 49,
   "id": "e19dee57",
   "metadata": {},
   "outputs": [
    {
     "data": {
      "text/plain": [
       "torch.Size([1, 1, 2])"
      ]
     },
     "execution_count": 49,
     "metadata": {},
     "output_type": "execute_result"
    }
   ],
   "source": [
    "samples['W'].shape"
   ]
  },
  {
   "cell_type": "code",
   "execution_count": 50,
   "id": "db07b926",
   "metadata": {},
   "outputs": [
    {
     "data": {
      "text/plain": [
       "torch.Size([1, 200, 1])"
      ]
     },
     "execution_count": 50,
     "metadata": {},
     "output_type": "execute_result"
    }
   ],
   "source": [
    "samples['Z'].shape"
   ]
  },
  {
   "cell_type": "code",
   "execution_count": 51,
   "id": "43180382",
   "metadata": {},
   "outputs": [],
   "source": [
    "X_gen = samples['obs'][0, :, :]"
   ]
  },
  {
   "cell_type": "code",
   "execution_count": 60,
   "id": "61d1806f",
   "metadata": {},
   "outputs": [
    {
     "data": {
      "text/plain": [
       "<matplotlib.legend.Legend at 0x1435d65b0>"
      ]
     },
     "execution_count": 60,
     "metadata": {},
     "output_type": "execute_result"
    },
    {
     "data": {
      "image/png": "[encoded data removed]",
      "text/plain": [
       "<Figure size 432x288 with 1 Axes>"
      ]
     },
     "metadata": {
      "needs_background": "light"
     },
     "output_type": "display_data"
    }
   ],
   "source": [
    "plt.scatter(X[:, 0], X[:, 1], label='Data')\n",
    "\n",
    "plt.scatter(X_gen[:, 0], X_gen[:, 1], s = 100, alpha=0.4, marker='^', label='Generated')\n",
    "plt.legend()"
   ]
  },
  {
   "cell_type": "markdown",
   "id": "d989bb46",
   "metadata": {},
   "source": [
    "But, wait, now it seems we are getting exact same X? Why? As our model had: `return pyro.sample(\"obs\", ob, obs=data)`. This will ensure we always return `data`. Let us now modify to set `data=None` to allow us to not use the observed data."
   ]
  },
  {
   "cell_type": "code",
   "execution_count": 61,
   "id": "4f263867",
   "metadata": {},
   "outputs": [
    {
     "data": {
      "image/svg+xml": [
       "<?xml version=\"1.0\" encoding=\"UTF-8\" standalone=\"no\"?>\n",
       "<!DOCTYPE svg PUBLIC \"-//W3C//DTD SVG 1.1//EN\"\n",
       " \"http://www.w3.org/Graphics/SVG/1.1/DTD/svg11.dtd\">\n",
       "<!-- Generated by graphviz version 2.50.0 (0)\n",
       " -->\n",
       "<!-- Pages: 1 -->\n",
       "<svg width=\"244pt\" height=\"133pt\"\n",
       " viewBox=\"0.00 0.00 244.00 133.00\" xmlns=\"http://www.w3.org/2000/svg\" xmlns:xlink=\"http://www.w3.org/1999/xlink\">\n",
       "<g id=\"graph0\" class=\"graph\" transform=\"scale(1 1) rotate(0) translate(4 129)\">\n",
       "<polygon fill=\"white\" stroke=\"transparent\" points=\"-4,4 -4,-129 240,-129 240,4 -4,4\"/>\n",
       "<!-- W -->\n",
       "<g id=\"node1\" class=\"node\">\n",
       "<title>W</title>\n",
       "<ellipse fill=\"white\" stroke=\"black\" cx=\"27\" cy=\"-98.5\" rx=\"27\" ry=\"18\"/>\n",
       "<text text-anchor=\"middle\" x=\"27\" y=\"-94.8\" font-family=\"Times,serif\" font-size=\"14.00\">W</text>\n",
       "</g>\n",
       "<!-- obs -->\n",
       "<g id=\"node3\" class=\"node\">\n",
       "<title>obs</title>\n",
       "<ellipse fill=\"grey\" stroke=\"black\" cx=\"63\" cy=\"-18\" rx=\"27\" ry=\"18\"/>\n",
       "<text text-anchor=\"middle\" x=\"63\" y=\"-14.3\" font-family=\"Times,serif\" font-size=\"14.00\">obs</text>\n",
       "</g>\n",
       "<!-- W&#45;&gt;obs -->\n",
       "<g id=\"edge1\" class=\"edge\">\n",
       "<title>W&#45;&gt;obs</title>\n",
       "<path fill=\"none\" stroke=\"black\" d=\"M34.63,-80.85C39.44,-70.37 45.74,-56.64 51.18,-44.77\"/>\n",
       "<polygon fill=\"black\" stroke=\"black\" points=\"54.51,-45.9 55.5,-35.35 48.15,-42.99 54.51,-45.9\"/>\n",
       "</g>\n",
       "<!-- Z -->\n",
       "<g id=\"node2\" class=\"node\">\n",
       "<title>Z</title>\n",
       "<ellipse fill=\"white\" stroke=\"black\" cx=\"99\" cy=\"-98.5\" rx=\"27\" ry=\"18\"/>\n",
       "<text text-anchor=\"middle\" x=\"99\" y=\"-94.8\" font-family=\"Times,serif\" font-size=\"14.00\">Z</text>\n",
       "</g>\n",
       "<!-- Z&#45;&gt;obs -->\n",
       "<g id=\"edge2\" class=\"edge\">\n",
       "<title>Z&#45;&gt;obs</title>\n",
       "<path fill=\"none\" stroke=\"black\" d=\"M91.37,-80.85C86.56,-70.37 80.26,-56.64 74.82,-44.77\"/>\n",
       "<polygon fill=\"black\" stroke=\"black\" points=\"77.85,-42.99 70.5,-35.35 71.49,-45.9 77.85,-42.99\"/>\n",
       "</g>\n",
       "<!-- distribution_description_node -->\n",
       "<g id=\"node4\" class=\"node\">\n",
       "<title>distribution_description_node</title>\n",
       "<text text-anchor=\"start\" x=\"152\" y=\"-109.8\" font-family=\"Times,serif\" font-size=\"14.00\">W ~ Normal</text>\n",
       "<text text-anchor=\"start\" x=\"152\" y=\"-94.8\" font-family=\"Times,serif\" font-size=\"14.00\">Z ~ Normal</text>\n",
       "<text text-anchor=\"start\" x=\"152\" y=\"-79.8\" font-family=\"Times,serif\" font-size=\"14.00\">obs ~ Normal</text>\n",
       "</g>\n",
       "</g>\n",
       "</svg>\n"
      ],
      "text/plain": [
       "<graphviz.graphs.Digraph at 0x1434464c0>"
      ]
     },
     "execution_count": 61,
     "metadata": {},
     "output_type": "execute_result"
    }
   ],
   "source": [
    "pyro.clear_param_store()\n",
    "\n",
    "\n",
    "def ppca_model_without_plate_5(data  = None, latent_dim=1):\n",
    "    N, data_dim = data.shape\n",
    "    W = pyro.sample(\n",
    "        \"W\",\n",
    "        dist.Normal(\n",
    "            loc=torch.zeros([latent_dim, data_dim]),\n",
    "            scale=5.0 * torch.ones([latent_dim, data_dim]),\n",
    "        ).to_event(),\n",
    "    )\n",
    "    Z = pyro.sample(\n",
    "        \"Z\",\n",
    "        dist.Normal(\n",
    "            loc=torch.zeros([N, latent_dim]),\n",
    "            scale=torch.ones([N, latent_dim]),\n",
    "        ).to_event(),\n",
    "    )\n",
    "\n",
    "    mean = Z @ W\n",
    "\n",
    "    ob = pyro.distributions.Normal(mean, 1.0).to_event()\n",
    "    return pyro.sample(\"obs\", ob, obs=data)\n",
    "\n",
    "\n",
    "pyro.render_model(\n",
    "    ppca_model_without_plate_5, model_args=(X, 1), render_distributions=True\n",
    ")"
   ]
  },
  {
   "cell_type": "code",
   "execution_count": 62,
   "id": "93c5c0ca",
   "metadata": {},
   "outputs": [
    {
     "data": {
      "image/png": "[encoded data removed]",
      "text/plain": [
       "<Figure size 360x144 with 1 Axes>"
      ]
     },
     "metadata": {
      "needs_background": "light"
     },
     "output_type": "display_data"
    }
   ],
   "source": [
    "ag = create_guide_optimize_plot(ppca_model_without_plate_5)"
   ]
  },
  {
   "cell_type": "code",
   "execution_count": 63,
   "id": "c74d013e",
   "metadata": {},
   "outputs": [],
   "source": [
    "predictive = pyro.infer.Predictive(ppca_model_without_plate_5, guide=ag, num_samples=1)"
   ]
  },
  {
   "cell_type": "code",
   "execution_count": 64,
   "id": "7ef5379a",
   "metadata": {},
   "outputs": [
    {
     "ename": "AttributeError",
     "evalue": "'NoneType' object has no attribute 'shape'",
     "output_type": "error",
     "traceback": [
      "\u001b[0;31m---------------------------------------------------------------------------\u001b[0m",
      "\u001b[0;31mAttributeError\u001b[0m                            Traceback (most recent call last)",
      "Input \u001b[0;32mIn [64]\u001b[0m, in \u001b[0;36m<module>\u001b[0;34m\u001b[0m\n\u001b[0;32m----> 1\u001b[0m samples \u001b[38;5;241m=\u001b[39m \u001b[43mpredictive\u001b[49m\u001b[43m(\u001b[49m\u001b[38;5;28;43;01mNone\u001b[39;49;00m\u001b[43m,\u001b[49m\u001b[43m \u001b[49m\u001b[38;5;241;43m1\u001b[39;49m\u001b[43m)\u001b[49m\n",
      "File \u001b[0;32m~/miniforge3/lib/python3.9/site-packages/torch/nn/modules/module.py:1102\u001b[0m, in \u001b[0;36mModule._call_impl\u001b[0;34m(self, *input, **kwargs)\u001b[0m\n\u001b[1;32m   1098\u001b[0m \u001b[38;5;66;03m# If we don't have any hooks, we want to skip the rest of the logic in\u001b[39;00m\n\u001b[1;32m   1099\u001b[0m \u001b[38;5;66;03m# this function, and just call forward.\u001b[39;00m\n\u001b[1;32m   1100\u001b[0m \u001b[38;5;28;01mif\u001b[39;00m \u001b[38;5;129;01mnot\u001b[39;00m (\u001b[38;5;28mself\u001b[39m\u001b[38;5;241m.\u001b[39m_backward_hooks \u001b[38;5;129;01mor\u001b[39;00m \u001b[38;5;28mself\u001b[39m\u001b[38;5;241m.\u001b[39m_forward_hooks \u001b[38;5;129;01mor\u001b[39;00m \u001b[38;5;28mself\u001b[39m\u001b[38;5;241m.\u001b[39m_forward_pre_hooks \u001b[38;5;129;01mor\u001b[39;00m _global_backward_hooks\n\u001b[1;32m   1101\u001b[0m         \u001b[38;5;129;01mor\u001b[39;00m _global_forward_hooks \u001b[38;5;129;01mor\u001b[39;00m _global_forward_pre_hooks):\n\u001b[0;32m-> 1102\u001b[0m     \u001b[38;5;28;01mreturn\u001b[39;00m \u001b[43mforward_call\u001b[49m\u001b[43m(\u001b[49m\u001b[38;5;241;43m*\u001b[39;49m\u001b[38;5;28;43minput\u001b[39;49m\u001b[43m,\u001b[49m\u001b[43m \u001b[49m\u001b[38;5;241;43m*\u001b[39;49m\u001b[38;5;241;43m*\u001b[39;49m\u001b[43mkwargs\u001b[49m\u001b[43m)\u001b[49m\n\u001b[1;32m   1103\u001b[0m \u001b[38;5;66;03m# Do not call functions when jit is used\u001b[39;00m\n\u001b[1;32m   1104\u001b[0m full_backward_hooks, non_full_backward_hooks \u001b[38;5;241m=\u001b[39m [], []\n",
      "File \u001b[0;32m~/miniforge3/lib/python3.9/site-packages/pyro/infer/predictive.py:273\u001b[0m, in \u001b[0;36mPredictive.forward\u001b[0;34m(self, *args, **kwargs)\u001b[0m\n\u001b[1;32m    263\u001b[0m     return_sites \u001b[38;5;241m=\u001b[39m \u001b[38;5;28;01mNone\u001b[39;00m \u001b[38;5;28;01mif\u001b[39;00m \u001b[38;5;129;01mnot\u001b[39;00m return_sites \u001b[38;5;28;01melse\u001b[39;00m return_sites\n\u001b[1;32m    264\u001b[0m     posterior_samples \u001b[38;5;241m=\u001b[39m _predictive(\n\u001b[1;32m    265\u001b[0m         \u001b[38;5;28mself\u001b[39m\u001b[38;5;241m.\u001b[39mguide,\n\u001b[1;32m    266\u001b[0m         posterior_samples,\n\u001b[0;32m   (...)\u001b[0m\n\u001b[1;32m    271\u001b[0m         model_kwargs\u001b[38;5;241m=\u001b[39mkwargs,\n\u001b[1;32m    272\u001b[0m     )\n\u001b[0;32m--> 273\u001b[0m \u001b[38;5;28;01mreturn\u001b[39;00m \u001b[43m_predictive\u001b[49m\u001b[43m(\u001b[49m\n\u001b[1;32m    274\u001b[0m \u001b[43m    \u001b[49m\u001b[38;5;28;43mself\u001b[39;49m\u001b[38;5;241;43m.\u001b[39;49m\u001b[43mmodel\u001b[49m\u001b[43m,\u001b[49m\n\u001b[1;32m    275\u001b[0m \u001b[43m    \u001b[49m\u001b[43mposterior_samples\u001b[49m\u001b[43m,\u001b[49m\n\u001b[1;32m    276\u001b[0m \u001b[43m    \u001b[49m\u001b[38;5;28;43mself\u001b[39;49m\u001b[38;5;241;43m.\u001b[39;49m\u001b[43mnum_samples\u001b[49m\u001b[43m,\u001b[49m\n\u001b[1;32m    277\u001b[0m \u001b[43m    \u001b[49m\u001b[43mreturn_sites\u001b[49m\u001b[38;5;241;43m=\u001b[39;49m\u001b[43mreturn_sites\u001b[49m\u001b[43m,\u001b[49m\n\u001b[1;32m    278\u001b[0m \u001b[43m    \u001b[49m\u001b[43mparallel\u001b[49m\u001b[38;5;241;43m=\u001b[39;49m\u001b[38;5;28;43mself\u001b[39;49m\u001b[38;5;241;43m.\u001b[39;49m\u001b[43mparallel\u001b[49m\u001b[43m,\u001b[49m\n\u001b[1;32m    279\u001b[0m \u001b[43m    \u001b[49m\u001b[43mmodel_args\u001b[49m\u001b[38;5;241;43m=\u001b[39;49m\u001b[43margs\u001b[49m\u001b[43m,\u001b[49m\n\u001b[1;32m    280\u001b[0m \u001b[43m    \u001b[49m\u001b[43mmodel_kwargs\u001b[49m\u001b[38;5;241;43m=\u001b[39;49m\u001b[43mkwargs\u001b[49m\u001b[43m,\u001b[49m\n\u001b[1;32m    281\u001b[0m \u001b[43m\u001b[49m\u001b[43m)\u001b[49m\n",
      "File \u001b[0;32m~/miniforge3/lib/python3.9/site-packages/pyro/infer/predictive.py:78\u001b[0m, in \u001b[0;36m_predictive\u001b[0;34m(model, posterior_samples, num_samples, return_sites, return_trace, parallel, model_args, model_kwargs)\u001b[0m\n\u001b[1;32m     67\u001b[0m \u001b[38;5;28;01mdef\u001b[39;00m \u001b[38;5;21m_predictive\u001b[39m(\n\u001b[1;32m     68\u001b[0m     model,\n\u001b[1;32m     69\u001b[0m     posterior_samples,\n\u001b[0;32m   (...)\u001b[0m\n\u001b[1;32m     75\u001b[0m     model_kwargs\u001b[38;5;241m=\u001b[39m{},\n\u001b[1;32m     76\u001b[0m ):\n\u001b[1;32m     77\u001b[0m     model \u001b[38;5;241m=\u001b[39m torch\u001b[38;5;241m.\u001b[39mno_grad()(poutine\u001b[38;5;241m.\u001b[39mmask(model, mask\u001b[38;5;241m=\u001b[39m\u001b[38;5;28;01mFalse\u001b[39;00m))\n\u001b[0;32m---> 78\u001b[0m     max_plate_nesting \u001b[38;5;241m=\u001b[39m \u001b[43m_guess_max_plate_nesting\u001b[49m\u001b[43m(\u001b[49m\u001b[43mmodel\u001b[49m\u001b[43m,\u001b[49m\u001b[43m \u001b[49m\u001b[43mmodel_args\u001b[49m\u001b[43m,\u001b[49m\u001b[43m \u001b[49m\u001b[43mmodel_kwargs\u001b[49m\u001b[43m)\u001b[49m\n\u001b[1;32m     79\u001b[0m     vectorize \u001b[38;5;241m=\u001b[39m pyro\u001b[38;5;241m.\u001b[39mplate(\n\u001b[1;32m     80\u001b[0m         \u001b[38;5;124m\"\u001b[39m\u001b[38;5;124m_num_predictive_samples\u001b[39m\u001b[38;5;124m\"\u001b[39m, num_samples, dim\u001b[38;5;241m=\u001b[39m\u001b[38;5;241m-\u001b[39mmax_plate_nesting \u001b[38;5;241m-\u001b[39m \u001b[38;5;241m1\u001b[39m\n\u001b[1;32m     81\u001b[0m     )\n\u001b[1;32m     82\u001b[0m     model_trace \u001b[38;5;241m=\u001b[39m prune_subsample_sites(\n\u001b[1;32m     83\u001b[0m         poutine\u001b[38;5;241m.\u001b[39mtrace(model)\u001b[38;5;241m.\u001b[39mget_trace(\u001b[38;5;241m*\u001b[39mmodel_args, \u001b[38;5;241m*\u001b[39m\u001b[38;5;241m*\u001b[39mmodel_kwargs)\n\u001b[1;32m     84\u001b[0m     )\n",
      "File \u001b[0;32m~/miniforge3/lib/python3.9/site-packages/pyro/infer/predictive.py:21\u001b[0m, in \u001b[0;36m_guess_max_plate_nesting\u001b[0;34m(model, args, kwargs)\u001b[0m\n\u001b[1;32m     15\u001b[0m \u001b[38;5;124;03m\"\"\"\u001b[39;00m\n\u001b[1;32m     16\u001b[0m \u001b[38;5;124;03mGuesses max_plate_nesting by running the model once\u001b[39;00m\n\u001b[1;32m     17\u001b[0m \u001b[38;5;124;03mwithout enumeration. This optimistically assumes static model\u001b[39;00m\n\u001b[1;32m     18\u001b[0m \u001b[38;5;124;03mstructure.\u001b[39;00m\n\u001b[1;32m     19\u001b[0m \u001b[38;5;124;03m\"\"\"\u001b[39;00m\n\u001b[1;32m     20\u001b[0m \u001b[38;5;28;01mwith\u001b[39;00m poutine\u001b[38;5;241m.\u001b[39mblock():\n\u001b[0;32m---> 21\u001b[0m     model_trace \u001b[38;5;241m=\u001b[39m \u001b[43mpoutine\u001b[49m\u001b[38;5;241;43m.\u001b[39;49m\u001b[43mtrace\u001b[49m\u001b[43m(\u001b[49m\u001b[43mmodel\u001b[49m\u001b[43m)\u001b[49m\u001b[38;5;241;43m.\u001b[39;49m\u001b[43mget_trace\u001b[49m\u001b[43m(\u001b[49m\u001b[38;5;241;43m*\u001b[39;49m\u001b[43margs\u001b[49m\u001b[43m,\u001b[49m\u001b[43m \u001b[49m\u001b[38;5;241;43m*\u001b[39;49m\u001b[38;5;241;43m*\u001b[39;49m\u001b[43mkwargs\u001b[49m\u001b[43m)\u001b[49m\n\u001b[1;32m     22\u001b[0m sites \u001b[38;5;241m=\u001b[39m [site \u001b[38;5;28;01mfor\u001b[39;00m site \u001b[38;5;129;01min\u001b[39;00m model_trace\u001b[38;5;241m.\u001b[39mnodes\u001b[38;5;241m.\u001b[39mvalues() \u001b[38;5;28;01mif\u001b[39;00m site[\u001b[38;5;124m\"\u001b[39m\u001b[38;5;124mtype\u001b[39m\u001b[38;5;124m\"\u001b[39m] \u001b[38;5;241m==\u001b[39m \u001b[38;5;124m\"\u001b[39m\u001b[38;5;124msample\u001b[39m\u001b[38;5;124m\"\u001b[39m]\n\u001b[1;32m     24\u001b[0m dims \u001b[38;5;241m=\u001b[39m [\n\u001b[1;32m     25\u001b[0m     frame\u001b[38;5;241m.\u001b[39mdim\n\u001b[1;32m     26\u001b[0m     \u001b[38;5;28;01mfor\u001b[39;00m site \u001b[38;5;129;01min\u001b[39;00m sites\n\u001b[1;32m     27\u001b[0m     \u001b[38;5;28;01mfor\u001b[39;00m frame \u001b[38;5;129;01min\u001b[39;00m site[\u001b[38;5;124m\"\u001b[39m\u001b[38;5;124mcond_indep_stack\u001b[39m\u001b[38;5;124m\"\u001b[39m]\n\u001b[1;32m     28\u001b[0m     \u001b[38;5;28;01mif\u001b[39;00m frame\u001b[38;5;241m.\u001b[39mvectorized\n\u001b[1;32m     29\u001b[0m ]\n",
      "File \u001b[0;32m~/miniforge3/lib/python3.9/site-packages/pyro/poutine/trace_messenger.py:198\u001b[0m, in \u001b[0;36mTraceHandler.get_trace\u001b[0;34m(self, *args, **kwargs)\u001b[0m\n\u001b[1;32m    190\u001b[0m \u001b[38;5;28;01mdef\u001b[39;00m \u001b[38;5;21mget_trace\u001b[39m(\u001b[38;5;28mself\u001b[39m, \u001b[38;5;241m*\u001b[39margs, \u001b[38;5;241m*\u001b[39m\u001b[38;5;241m*\u001b[39mkwargs):\n\u001b[1;32m    191\u001b[0m     \u001b[38;5;124;03m\"\"\"\u001b[39;00m\n\u001b[1;32m    192\u001b[0m \u001b[38;5;124;03m    :returns: data structure\u001b[39;00m\n\u001b[1;32m    193\u001b[0m \u001b[38;5;124;03m    :rtype: pyro.poutine.Trace\u001b[39;00m\n\u001b[0;32m   (...)\u001b[0m\n\u001b[1;32m    196\u001b[0m \u001b[38;5;124;03m    Calls this poutine and returns its trace instead of the function's return value.\u001b[39;00m\n\u001b[1;32m    197\u001b[0m \u001b[38;5;124;03m    \"\"\"\u001b[39;00m\n\u001b[0;32m--> 198\u001b[0m     \u001b[38;5;28;43mself\u001b[39;49m\u001b[43m(\u001b[49m\u001b[38;5;241;43m*\u001b[39;49m\u001b[43margs\u001b[49m\u001b[43m,\u001b[49m\u001b[43m \u001b[49m\u001b[38;5;241;43m*\u001b[39;49m\u001b[38;5;241;43m*\u001b[39;49m\u001b[43mkwargs\u001b[49m\u001b[43m)\u001b[49m\n\u001b[1;32m    199\u001b[0m     \u001b[38;5;28;01mreturn\u001b[39;00m \u001b[38;5;28mself\u001b[39m\u001b[38;5;241m.\u001b[39mmsngr\u001b[38;5;241m.\u001b[39mget_trace()\n",
      "File \u001b[0;32m~/miniforge3/lib/python3.9/site-packages/pyro/poutine/trace_messenger.py:174\u001b[0m, in \u001b[0;36mTraceHandler.__call__\u001b[0;34m(self, *args, **kwargs)\u001b[0m\n\u001b[1;32m    170\u001b[0m \u001b[38;5;28mself\u001b[39m\u001b[38;5;241m.\u001b[39mmsngr\u001b[38;5;241m.\u001b[39mtrace\u001b[38;5;241m.\u001b[39madd_node(\n\u001b[1;32m    171\u001b[0m     \u001b[38;5;124m\"\u001b[39m\u001b[38;5;124m_INPUT\u001b[39m\u001b[38;5;124m\"\u001b[39m, name\u001b[38;5;241m=\u001b[39m\u001b[38;5;124m\"\u001b[39m\u001b[38;5;124m_INPUT\u001b[39m\u001b[38;5;124m\"\u001b[39m, \u001b[38;5;28mtype\u001b[39m\u001b[38;5;241m=\u001b[39m\u001b[38;5;124m\"\u001b[39m\u001b[38;5;124margs\u001b[39m\u001b[38;5;124m\"\u001b[39m, args\u001b[38;5;241m=\u001b[39margs, kwargs\u001b[38;5;241m=\u001b[39mkwargs\n\u001b[1;32m    172\u001b[0m )\n\u001b[1;32m    173\u001b[0m \u001b[38;5;28;01mtry\u001b[39;00m:\n\u001b[0;32m--> 174\u001b[0m     ret \u001b[38;5;241m=\u001b[39m \u001b[38;5;28;43mself\u001b[39;49m\u001b[38;5;241;43m.\u001b[39;49m\u001b[43mfn\u001b[49m\u001b[43m(\u001b[49m\u001b[38;5;241;43m*\u001b[39;49m\u001b[43margs\u001b[49m\u001b[43m,\u001b[49m\u001b[43m \u001b[49m\u001b[38;5;241;43m*\u001b[39;49m\u001b[38;5;241;43m*\u001b[39;49m\u001b[43mkwargs\u001b[49m\u001b[43m)\u001b[49m\n\u001b[1;32m    175\u001b[0m \u001b[38;5;28;01mexcept\u001b[39;00m (\u001b[38;5;167;01mValueError\u001b[39;00m, \u001b[38;5;167;01mRuntimeError\u001b[39;00m) \u001b[38;5;28;01mas\u001b[39;00m e:\n\u001b[1;32m    176\u001b[0m     exc_type, exc_value, traceback \u001b[38;5;241m=\u001b[39m sys\u001b[38;5;241m.\u001b[39mexc_info()\n",
      "File \u001b[0;32m~/miniforge3/lib/python3.9/site-packages/torch/autograd/grad_mode.py:28\u001b[0m, in \u001b[0;36m_DecoratorContextManager.__call__.<locals>.decorate_context\u001b[0;34m(*args, **kwargs)\u001b[0m\n\u001b[1;32m     25\u001b[0m \u001b[38;5;129m@functools\u001b[39m\u001b[38;5;241m.\u001b[39mwraps(func)\n\u001b[1;32m     26\u001b[0m \u001b[38;5;28;01mdef\u001b[39;00m \u001b[38;5;21mdecorate_context\u001b[39m(\u001b[38;5;241m*\u001b[39margs, \u001b[38;5;241m*\u001b[39m\u001b[38;5;241m*\u001b[39mkwargs):\n\u001b[1;32m     27\u001b[0m     \u001b[38;5;28;01mwith\u001b[39;00m \u001b[38;5;28mself\u001b[39m\u001b[38;5;241m.\u001b[39m\u001b[38;5;18m__class__\u001b[39m():\n\u001b[0;32m---> 28\u001b[0m         \u001b[38;5;28;01mreturn\u001b[39;00m \u001b[43mfunc\u001b[49m\u001b[43m(\u001b[49m\u001b[38;5;241;43m*\u001b[39;49m\u001b[43margs\u001b[49m\u001b[43m,\u001b[49m\u001b[43m \u001b[49m\u001b[38;5;241;43m*\u001b[39;49m\u001b[38;5;241;43m*\u001b[39;49m\u001b[43mkwargs\u001b[49m\u001b[43m)\u001b[49m\n",
      "File \u001b[0;32m~/miniforge3/lib/python3.9/site-packages/pyro/poutine/messenger.py:12\u001b[0m, in \u001b[0;36m_context_wrap\u001b[0;34m(context, fn, *args, **kwargs)\u001b[0m\n\u001b[1;32m     10\u001b[0m \u001b[38;5;28;01mdef\u001b[39;00m \u001b[38;5;21m_context_wrap\u001b[39m(context, fn, \u001b[38;5;241m*\u001b[39margs, \u001b[38;5;241m*\u001b[39m\u001b[38;5;241m*\u001b[39mkwargs):\n\u001b[1;32m     11\u001b[0m     \u001b[38;5;28;01mwith\u001b[39;00m context:\n\u001b[0;32m---> 12\u001b[0m         \u001b[38;5;28;01mreturn\u001b[39;00m \u001b[43mfn\u001b[49m\u001b[43m(\u001b[49m\u001b[38;5;241;43m*\u001b[39;49m\u001b[43margs\u001b[49m\u001b[43m,\u001b[49m\u001b[43m \u001b[49m\u001b[38;5;241;43m*\u001b[39;49m\u001b[38;5;241;43m*\u001b[39;49m\u001b[43mkwargs\u001b[49m\u001b[43m)\u001b[49m\n",
      "Input \u001b[0;32mIn [61]\u001b[0m, in \u001b[0;36mppca_model_without_plate_5\u001b[0;34m(data, latent_dim)\u001b[0m\n\u001b[1;32m      4\u001b[0m \u001b[38;5;28;01mdef\u001b[39;00m \u001b[38;5;21mppca_model_without_plate_5\u001b[39m(data  \u001b[38;5;241m=\u001b[39m \u001b[38;5;28;01mNone\u001b[39;00m, latent_dim\u001b[38;5;241m=\u001b[39m\u001b[38;5;241m1\u001b[39m):\n\u001b[0;32m----> 5\u001b[0m     N, data_dim \u001b[38;5;241m=\u001b[39m \u001b[43mdata\u001b[49m\u001b[38;5;241;43m.\u001b[39;49m\u001b[43mshape\u001b[49m\n\u001b[1;32m      6\u001b[0m     W \u001b[38;5;241m=\u001b[39m pyro\u001b[38;5;241m.\u001b[39msample(\n\u001b[1;32m      7\u001b[0m         \u001b[38;5;124m\"\u001b[39m\u001b[38;5;124mW\u001b[39m\u001b[38;5;124m\"\u001b[39m,\n\u001b[1;32m      8\u001b[0m         dist\u001b[38;5;241m.\u001b[39mNormal(\n\u001b[0;32m   (...)\u001b[0m\n\u001b[1;32m     11\u001b[0m         )\u001b[38;5;241m.\u001b[39mto_event(),\n\u001b[1;32m     12\u001b[0m     )\n\u001b[1;32m     13\u001b[0m     Z \u001b[38;5;241m=\u001b[39m pyro\u001b[38;5;241m.\u001b[39msample(\n\u001b[1;32m     14\u001b[0m         \u001b[38;5;124m\"\u001b[39m\u001b[38;5;124mZ\u001b[39m\u001b[38;5;124m\"\u001b[39m,\n\u001b[1;32m     15\u001b[0m         dist\u001b[38;5;241m.\u001b[39mNormal(\n\u001b[0;32m   (...)\u001b[0m\n\u001b[1;32m     18\u001b[0m         )\u001b[38;5;241m.\u001b[39mto_event(),\n\u001b[1;32m     19\u001b[0m     )\n",
      "\u001b[0;31mAttributeError\u001b[0m: 'NoneType' object has no attribute 'shape'"
     ]
    }
   ],
   "source": [
    "samples = predictive(None, 1)"
   ]
  },
  {
   "cell_type": "markdown",
   "id": "a760d608",
   "metadata": {},
   "source": [
    "But, we were getting the N, data_dim from the data. In the absence of passing in the actual data, we may need to create additional arguments to our modelling function."
   ]
  },
  {
   "cell_type": "code",
   "execution_count": 65,
   "id": "9ae8ca67",
   "metadata": {},
   "outputs": [
    {
     "data": {
      "image/svg+xml": [
       "<?xml version=\"1.0\" encoding=\"UTF-8\" standalone=\"no\"?>\n",
       "<!DOCTYPE svg PUBLIC \"-//W3C//DTD SVG 1.1//EN\"\n",
       " \"http://www.w3.org/Graphics/SVG/1.1/DTD/svg11.dtd\">\n",
       "<!-- Generated by graphviz version 2.50.0 (0)\n",
       " -->\n",
       "<!-- Pages: 1 -->\n",
       "<svg width=\"244pt\" height=\"133pt\"\n",
       " viewBox=\"0.00 0.00 244.00 133.00\" xmlns=\"http://www.w3.org/2000/svg\" xmlns:xlink=\"http://www.w3.org/1999/xlink\">\n",
       "<g id=\"graph0\" class=\"graph\" transform=\"scale(1 1) rotate(0) translate(4 129)\">\n",
       "<polygon fill=\"white\" stroke=\"transparent\" points=\"-4,4 -4,-129 240,-129 240,4 -4,4\"/>\n",
       "<!-- W -->\n",
       "<g id=\"node1\" class=\"node\">\n",
       "<title>W</title>\n",
       "<ellipse fill=\"white\" stroke=\"black\" cx=\"27\" cy=\"-98.5\" rx=\"27\" ry=\"18\"/>\n",
       "<text text-anchor=\"middle\" x=\"27\" y=\"-94.8\" font-family=\"Times,serif\" font-size=\"14.00\">W</text>\n",
       "</g>\n",
       "<!-- obs -->\n",
       "<g id=\"node3\" class=\"node\">\n",
       "<title>obs</title>\n",
       "<ellipse fill=\"grey\" stroke=\"black\" cx=\"63\" cy=\"-18\" rx=\"27\" ry=\"18\"/>\n",
       "<text text-anchor=\"middle\" x=\"63\" y=\"-14.3\" font-family=\"Times,serif\" font-size=\"14.00\">obs</text>\n",
       "</g>\n",
       "<!-- W&#45;&gt;obs -->\n",
       "<g id=\"edge1\" class=\"edge\">\n",
       "<title>W&#45;&gt;obs</title>\n",
       "<path fill=\"none\" stroke=\"black\" d=\"M34.63,-80.85C39.44,-70.37 45.74,-56.64 51.18,-44.77\"/>\n",
       "<polygon fill=\"black\" stroke=\"black\" points=\"54.51,-45.9 55.5,-35.35 48.15,-42.99 54.51,-45.9\"/>\n",
       "</g>\n",
       "<!-- Z -->\n",
       "<g id=\"node2\" class=\"node\">\n",
       "<title>Z</title>\n",
       "<ellipse fill=\"white\" stroke=\"black\" cx=\"99\" cy=\"-98.5\" rx=\"27\" ry=\"18\"/>\n",
       "<text text-anchor=\"middle\" x=\"99\" y=\"-94.8\" font-family=\"Times,serif\" font-size=\"14.00\">Z</text>\n",
       "</g>\n",
       "<!-- Z&#45;&gt;obs -->\n",
       "<g id=\"edge2\" class=\"edge\">\n",
       "<title>Z&#45;&gt;obs</title>\n",
       "<path fill=\"none\" stroke=\"black\" d=\"M91.37,-80.85C86.56,-70.37 80.26,-56.64 74.82,-44.77\"/>\n",
       "<polygon fill=\"black\" stroke=\"black\" points=\"77.85,-42.99 70.5,-35.35 71.49,-45.9 77.85,-42.99\"/>\n",
       "</g>\n",
       "<!-- distribution_description_node -->\n",
       "<g id=\"node4\" class=\"node\">\n",
       "<title>distribution_description_node</title>\n",
       "<text text-anchor=\"start\" x=\"152\" y=\"-109.8\" font-family=\"Times,serif\" font-size=\"14.00\">W ~ Normal</text>\n",
       "<text text-anchor=\"start\" x=\"152\" y=\"-94.8\" font-family=\"Times,serif\" font-size=\"14.00\">Z ~ Normal</text>\n",
       "<text text-anchor=\"start\" x=\"152\" y=\"-79.8\" font-family=\"Times,serif\" font-size=\"14.00\">obs ~ Normal</text>\n",
       "</g>\n",
       "</g>\n",
       "</svg>\n"
      ],
      "text/plain": [
       "<graphviz.graphs.Digraph at 0x143606d90>"
      ]
     },
     "execution_count": 65,
     "metadata": {},
     "output_type": "execute_result"
    }
   ],
   "source": [
    "pyro.clear_param_store()\n",
    "\n",
    "\n",
    "def ppca_model_without_plate_6(data  = None, latent_dim=1, N = 200, data_dim = 2):\n",
    "    if data is not None:\n",
    "        N, data_dim = data.shape\n",
    "    W = pyro.sample(\n",
    "        \"W\",\n",
    "        dist.Normal(\n",
    "            loc=torch.zeros([latent_dim, data_dim]),\n",
    "            scale=5.0 * torch.ones([latent_dim, data_dim]),\n",
    "        ).to_event(),\n",
    "    )\n",
    "    Z = pyro.sample(\n",
    "        \"Z\",\n",
    "        dist.Normal(\n",
    "            loc=torch.zeros([N, latent_dim]),\n",
    "            scale=torch.ones([N, latent_dim]),\n",
    "        ).to_event(),\n",
    "    )\n",
    "\n",
    "    mean = Z @ W\n",
    "\n",
    "    ob = pyro.distributions.Normal(mean, 1.0).to_event()\n",
    "    return pyro.sample(\"obs\", ob, obs=data)\n",
    "\n",
    "\n",
    "pyro.render_model(\n",
    "    ppca_model_without_plate_6, model_args=(X, 1), render_distributions=True\n",
    ")"
   ]
  },
  {
   "cell_type": "code",
   "execution_count": 66,
   "id": "4150cb84",
   "metadata": {},
   "outputs": [
    {
     "data": {
      "image/png": "[encoded data removed]",
      "text/plain": [
       "<Figure size 360x144 with 1 Axes>"
      ]
     },
     "metadata": {
      "needs_background": "light"
     },
     "output_type": "display_data"
    }
   ],
   "source": [
    "ag = create_guide_optimize_plot(ppca_model_without_plate_6)"
   ]
  },
  {
   "cell_type": "code",
   "execution_count": 70,
   "id": "f26984f8",
   "metadata": {},
   "outputs": [],
   "source": [
    "num_samples = 100\n",
    "predictive = pyro.infer.Predictive(ppca_model_without_plate_6, guide=ag, num_samples=num_samples)"
   ]
  },
  {
   "cell_type": "code",
   "execution_count": 68,
   "id": "b6beeec8",
   "metadata": {},
   "outputs": [],
   "source": [
    "samples = predictive(None, 1, 200, 2)"
   ]
  },
  {
   "cell_type": "code",
   "execution_count": 73,
   "id": "497952c6",
   "metadata": {},
   "outputs": [
    {
     "data": {
      "text/plain": [
       "<matplotlib.legend.Legend at 0x145ccd310>"
      ]
     },
     "execution_count": 73,
     "metadata": {},
     "output_type": "execute_result"
    },
    {
     "data": {
      "image/png": "[encoded data removed]",
      "text/plain": [
       "<Figure size 432x288 with 1 Axes>"
      ]
     },
     "metadata": {
      "needs_background": "light"
     },
     "output_type": "display_data"
    }
   ],
   "source": [
    "for i in range(num_samples-1):\n",
    "    X_gen = samples['obs'][i, :, :]\n",
    "    plt.scatter(X_gen[:, 0], X_gen[:, 1], color='k', alpha=0.05)\n",
    "plt.scatter(X[:, 0], X[:, 1], label='Actual Data')\n",
    "plt.axis('equal')\n",
    "plt.scatter(X_gen[num_samples, 0], X_gen[num_samples, 1], color='k', alpha=0.5, label='Simulated')\n",
    "plt.legend()"
   ]
  },
  {
   "cell_type": "code",
   "execution_count": 79,
   "id": "e0f6d550",
   "metadata": {},
   "outputs": [
    {
     "data": {
      "text/plain": [
       "<matplotlib.legend.Legend at 0x1494f5340>"
      ]
     },
     "execution_count": 79,
     "metadata": {},
     "output_type": "execute_result"
    },
    {
     "data": {
      "image/png": "[encoded data removed]",
      "text/plain": [
       "<Figure size 432x288 with 1 Axes>"
      ]
     },
     "metadata": {
      "needs_background": "light"
     },
     "output_type": "display_data"
    }
   ],
   "source": [
    "for W_sample in samples['W']:\n",
    "    z_lin_w = z_lin@W_sample\n",
    "    plt.plot(z_lin_w[:, 0], z_lin_w[:, 1], color='gray', alpha=0.2)\n",
    "plt.scatter(X[:, 0], X[:, 1], label='Actual Data')\n",
    "plt.plot(z_lin_w[:, 0], z_lin_w[:, 1], color='gray', alpha=0.2, label='Principal Axis Samples')\n",
    "plt.legend()"
   ]
  },
  {
   "cell_type": "markdown",
   "id": "b0ef69db",
   "metadata": {},
   "source": [
    "### With plate notation\n",
    "\n",
    "Now, we will be using the Plate notation to create the same model.\n",
    "\n",
    "We would like the following shapes in our model\n",
    "\n",
    "W ∈ R^(d X D)\n",
    "zn ∈ R^d\n",
    "mean ∈ R^D"
   ]
  },
  {
   "cell_type": "code",
   "execution_count": 105,
   "id": "9e976bfd",
   "metadata": {},
   "outputs": [
    {
     "name": "stdout",
     "output_type": "stream",
     "text": [
      "******************** Error ********************\n",
      "\n",
      "size mismatch, got 2, 2x1,200\n",
      "Trace Shapes:          \n",
      " Param Sites:          \n",
      "Sample Sites:          \n",
      "       W dist     | 1 2\n",
      "        value     | 1 2\n",
      "    data dist     |    \n",
      "        value 200 |    \n",
      "      zn dist 200 |    \n",
      "        value 200 |    \n",
      "\n",
      "************************************************\n"
     ]
    }
   ],
   "source": [
    "pyro.clear_param_store()\n",
    "\n",
    "\n",
    "def ppca_model_plate(data, latent_dim):\n",
    "    N, data_dim = data.shape\n",
    "    W = pyro.sample(\n",
    "        \"W\",\n",
    "        dist.Normal(\n",
    "            loc=torch.zeros([latent_dim, data_dim]),\n",
    "            scale=5.0 * torch.ones([latent_dim, data_dim]),\n",
    "        ).to_event(),\n",
    "    )\n",
    "    \n",
    "    with pyro.plate(\"data\", N):\n",
    "        \n",
    "        zn = pyro.sample(\"zn\", dist.Normal(torch.zeros([latent_dim]), 1.))\n",
    "        mean = torch.matmul(W.t(), zn)\n",
    "        return pyro.sample(\"obs\", dist.Normal(mean, 1.), obs=data)\n",
    "    \n",
    "    \n",
    "try:\n",
    "    pyro.render_model(\n",
    "        ppca_model_plate, model_args=(X, 1), render_distributions=True\n",
    "    )\n",
    "except Exception as e:\n",
    "    print(\"*\"*20+\" Error \"+\"*\"*20+\"\\n\")\n",
    "    print(e)\n",
    "    print(\"\\n\"+\"*\"*48)\n",
    "    "
   ]
  },
  {
   "cell_type": "markdown",
   "id": "24d04e45",
   "metadata": {},
   "source": [
    "Wait! zn seems to be of size 200? Ah! The size of the data! Let us as before move the code outside the context of the `model` and understand things better."
   ]
  },
  {
   "cell_type": "code",
   "execution_count": 122,
   "id": "e1afafd1",
   "metadata": {},
   "outputs": [],
   "source": [
    "with pyro.plate(\"data\", N):\n",
    "    zn = pyro.sample(\"zn\", dist.Normal(torch.zeros([latent_dim]), 1.))"
   ]
  },
  {
   "cell_type": "code",
   "execution_count": 123,
   "id": "bfff3c62",
   "metadata": {},
   "outputs": [
    {
     "data": {
      "text/plain": [
       "torch.Size([200])"
      ]
     },
     "execution_count": 123,
     "metadata": {},
     "output_type": "execute_result"
    }
   ],
   "source": [
    "zn.shape"
   ]
  },
  {
   "cell_type": "code",
   "execution_count": 125,
   "id": "c1149e7f",
   "metadata": {},
   "outputs": [
    {
     "data": {
      "text/plain": [
       "torch.Size([1, 200])"
      ]
     },
     "execution_count": 125,
     "metadata": {},
     "output_type": "execute_result"
    }
   ],
   "source": [
    "with pyro.plate(\"data\", N):\n",
    "    zn = pyro.sample(\"zn\", dist.Normal(torch.zeros([1, latent_dim]), 1.))\n",
    "zn.shape"
   ]
  },
  {
   "cell_type": "code",
   "execution_count": 137,
   "id": "5df7672a",
   "metadata": {},
   "outputs": [],
   "source": [
    "pyro.clear_param_store()\n",
    "\n",
    "\n",
    "def ppca_model_plate_1(data, latent_dim):\n",
    "    N, data_dim = data.shape\n",
    "    W = pyro.sample(\n",
    "        \"W\",\n",
    "        dist.Normal(\n",
    "            loc=torch.zeros([latent_dim, data_dim]),\n",
    "            scale=5.0 * torch.ones([latent_dim, data_dim]),\n",
    "        ).to_event(),\n",
    "    )\n",
    "    \n",
    "    with pyro.plate(\"data\", N):\n",
    "        \n",
    "        Z = pyro.sample(\"Z\", dist.Normal(torch.zeros([latent_dim]), torch.ones([latent_dim])).to_event())\n",
    "       \n",
    "        mean = Z@W\n",
    "        return pyro.sample(\"obs\", dist.Normal(mean, 1.).to_event(), obs=data)\n",
    "    \n",
    "    \n",
    "try:\n",
    "    pyro.render_model(\n",
    "        ppca_model_plate_1, model_args=(X, 1), render_distributions=True\n",
    "    )\n",
    "except Exception as e:\n",
    "    print(\"*\"*20+\" Error \"+\"*\"*20+\"\\n\")\n",
    "    print(e)\n",
    "    print(\"\\n\"+\"*\"*48)"
   ]
  },
  {
   "cell_type": "markdown",
   "id": "7359e3f8",
   "metadata": {},
   "source": [
    "<p style=\"background-color:Tomato;\">Why do we need a `.to_event()` here? Could not figure out, had to do a lot of hit and trial.\n",
    "</p>"
   ]
  },
  {
   "cell_type": "code",
   "execution_count": 138,
   "id": "1dbcac5e",
   "metadata": {},
   "outputs": [
    {
     "data": {
      "image/svg+xml": [
       "<?xml version=\"1.0\" encoding=\"UTF-8\" standalone=\"no\"?>\n",
       "<!DOCTYPE svg PUBLIC \"-//W3C//DTD SVG 1.1//EN\"\n",
       " \"http://www.w3.org/Graphics/SVG/1.1/DTD/svg11.dtd\">\n",
       "<!-- Generated by graphviz version 2.50.0 (0)\n",
       " -->\n",
       "<!-- Pages: 1 -->\n",
       "<svg width=\"244pt\" height=\"180pt\"\n",
       " viewBox=\"0.00 0.00 244.00 179.50\" xmlns=\"http://www.w3.org/2000/svg\" xmlns:xlink=\"http://www.w3.org/1999/xlink\">\n",
       "<g id=\"graph0\" class=\"graph\" transform=\"scale(1 1) rotate(0) translate(4 175.5)\">\n",
       "<polygon fill=\"white\" stroke=\"transparent\" points=\"-4,4 -4,-175.5 240,-175.5 240,4 -4,4\"/>\n",
       "<g id=\"clust1\" class=\"cluster\">\n",
       "<title>cluster_data</title>\n",
       "<polygon fill=\"none\" stroke=\"black\" points=\"64,-8 64,-163.5 134,-163.5 134,-8 64,-8\"/>\n",
       "<text text-anchor=\"middle\" x=\"114.5\" y=\"-15.8\" font-family=\"Times,serif\" font-size=\"14.00\">data</text>\n",
       "</g>\n",
       "<!-- W -->\n",
       "<g id=\"node1\" class=\"node\">\n",
       "<title>W</title>\n",
       "<ellipse fill=\"white\" stroke=\"black\" cx=\"27\" cy=\"-137.5\" rx=\"27\" ry=\"18\"/>\n",
       "<text text-anchor=\"middle\" x=\"27\" y=\"-133.8\" font-family=\"Times,serif\" font-size=\"14.00\">W</text>\n",
       "</g>\n",
       "<!-- obs -->\n",
       "<g id=\"node3\" class=\"node\">\n",
       "<title>obs</title>\n",
       "<ellipse fill=\"grey\" stroke=\"black\" cx=\"99\" cy=\"-57\" rx=\"27\" ry=\"18\"/>\n",
       "<text text-anchor=\"middle\" x=\"99\" y=\"-53.3\" font-family=\"Times,serif\" font-size=\"14.00\">obs</text>\n",
       "</g>\n",
       "<!-- W&#45;&gt;obs -->\n",
       "<g id=\"edge1\" class=\"edge\">\n",
       "<title>W&#45;&gt;obs</title>\n",
       "<path fill=\"none\" stroke=\"black\" d=\"M40.54,-121.73C51.3,-110 66.52,-93.41 78.73,-80.1\"/>\n",
       "<polygon fill=\"black\" stroke=\"black\" points=\"81.34,-82.43 85.52,-72.7 76.18,-77.7 81.34,-82.43\"/>\n",
       "</g>\n",
       "<!-- Z -->\n",
       "<g id=\"node2\" class=\"node\">\n",
       "<title>Z</title>\n",
       "<ellipse fill=\"white\" stroke=\"black\" cx=\"99\" cy=\"-137.5\" rx=\"27\" ry=\"18\"/>\n",
       "<text text-anchor=\"middle\" x=\"99\" y=\"-133.8\" font-family=\"Times,serif\" font-size=\"14.00\">Z</text>\n",
       "</g>\n",
       "<!-- Z&#45;&gt;obs -->\n",
       "<g id=\"edge2\" class=\"edge\">\n",
       "<title>Z&#45;&gt;obs</title>\n",
       "<path fill=\"none\" stroke=\"black\" d=\"M99,-119.47C99,-109.49 99,-96.65 99,-85.3\"/>\n",
       "<polygon fill=\"black\" stroke=\"black\" points=\"102.5,-85 99,-75 95.5,-85 102.5,-85\"/>\n",
       "</g>\n",
       "<!-- distribution_description_node -->\n",
       "<g id=\"node4\" class=\"node\">\n",
       "<title>distribution_description_node</title>\n",
       "<text text-anchor=\"start\" x=\"152\" y=\"-148.8\" font-family=\"Times,serif\" font-size=\"14.00\">W ~ Normal</text>\n",
       "<text text-anchor=\"start\" x=\"152\" y=\"-133.8\" font-family=\"Times,serif\" font-size=\"14.00\">Z ~ Normal</text>\n",
       "<text text-anchor=\"start\" x=\"152\" y=\"-118.8\" font-family=\"Times,serif\" font-size=\"14.00\">obs ~ Normal</text>\n",
       "</g>\n",
       "</g>\n",
       "</svg>\n"
      ],
      "text/plain": [
       "<graphviz.graphs.Digraph at 0x1494bb550>"
      ]
     },
     "execution_count": 138,
     "metadata": {},
     "output_type": "execute_result"
    }
   ],
   "source": [
    "pyro.render_model(\n",
    "        ppca_model_plate_1, model_args=(X, 1), render_distributions=True\n",
    "    )"
   ]
  },
  {
   "cell_type": "code",
   "execution_count": 139,
   "id": "5829a889",
   "metadata": {},
   "outputs": [
    {
     "data": {
      "image/png": "[encoded data removed]",
      "text/plain": [
       "<Figure size 360x144 with 1 Axes>"
      ]
     },
     "metadata": {
      "needs_background": "light"
     },
     "output_type": "display_data"
    }
   ],
   "source": [
    "ag = create_guide_optimize_plot(ppca_model_plate_1)"
   ]
  },
  {
   "cell_type": "markdown",
   "id": "c7b863b9",
   "metadata": {},
   "source": [
    "Wait, the ELBO loss looks so much higher than the previous case?! \n",
    "\n",
    "<p style=\"background-color:Tomato;\">Why is the ELBO loss so high here in plate model compared to non-plate model?</p>"
   ]
  },
  {
   "cell_type": "code",
   "execution_count": null,
   "id": "ac6680cc",
   "metadata": {},
   "outputs": [],
   "source": []
  }
 ],
 "metadata": {
  "kernelspec": {
   "display_name": "Python 3 (ipykernel)",
   "language": "python",
   "name": "python3"
  },
  "language_info": {
   "codemirror_mode": {
    "name": "ipython",
    "version": 3
   },
   "file_extension": ".py",
   "mimetype": "text/x-python",
   "name": "python",
   "nbconvert_exporter": "python",
   "pygments_lexer": "ipython3",
   "version": "3.9.7"
  }
 },
 "nbformat": 4,
 "nbformat_minor": 5
}
